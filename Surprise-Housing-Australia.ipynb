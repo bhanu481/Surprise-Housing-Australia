{
 "cells": [
  {
   "cell_type": "markdown",
   "id": "cf7f144e",
   "metadata": {},
   "source": [
    "# Surprise-Housing-Australia:\n",
    "### Probem statement:\n",
    "\n",
    "A US-based housing company named Surprise Housing has decided to enter the Australian market. The company uses data analytics to purchase houses at a price below their actual values and flip them on at a higher price. For the same purpose, the company has collected a data set from the sale of houses in Australia.\n",
    "The company wants to know:\n",
    "- \r\n",
    "Which variables are significant in predicting the price of a house, a .<br>d- \r\n",
    "\r\n",
    "How well those variables describe the price of a house.\n",
    " \n",
    "### Business Goal:\n",
    "Model the demand for shared bikes with the available independent variables. It will be used by the management to understand how exactly the demands vary with different features. They can accordingly manipulate the business strategy to meet the demand levels and meet the customer's expectatiomodel the price of houses with the available independent variables. This model will then be used by the management to understand how exactly the prices vary with the variables. They can accordingly manipulate the strategy of the firm and concentrate on areas that will yield high returns.\n",
    "ns.\n",
    "\n",
    "### Steps:\n",
    "  (1) Data loading.<br>\n",
    "  (2) Data cleaning.<br>\n",
    "  (3) Data analysis and manipulations.<br>\n",
    "  (4) Data split in Train,test.<br>\n",
    "  (5) Scaling train data.<br>\n",
    "  (6) Feature selection<br>\n",
    "  (7) Model trai using regularizationning.<br>\n",
    "  (8) Analyzmodel parameters and alphaters.<br>\n",
    "  (9) Analizing assumptions.<br>\n",
    "  (10) Scaling test dataset.<br>\n",
    "  (11) Prediction on test set.<br>\n",
    "  (12) Analyzing predictions.<br>"
   ]
  },
  {
   "cell_type": "code",
   "execution_count": 1,
   "id": "deb85a47",
   "metadata": {},
   "outputs": [],
   "source": [
    "# Importing nessasary python libraries\n",
    "# importing basic libraries for data reading and analysis\n",
    "import numpy as np\n",
    "import pandas as pd\n",
    "import matplotlib.pyplot as plt\n",
    "import seaborn as sns\n",
    "import math\n",
    "# Importing libraries for model devolopment\n",
    "from sklearn.model_selection import train_test_split\n",
    "from sklearn.preprocessing import MinMaxScaler\n",
    "import statsmodels.api as sm\n",
    "from statsmodels.stats.outliers_influence import variance_inflation_factor\n",
    "from sklearn.feature_selection import RFE\n",
    "from sklearn.linear_model import LinearRegression\n",
    "from sklearn.metrics import r2_score\n",
    "# Ignore warnings\n",
    "import warnings\n",
    "warnings.filterwarnings('ignore')"
   ]
  },
  {
   "cell_type": "markdown",
   "id": "1805bd4b",
   "metadata": {},
   "source": [
    "## Data loading:"
   ]
  },
  {
   "cell_type": "code",
   "execution_count": 2,
   "id": "773c98dc",
   "metadata": {},
   "outputs": [
    {
     "data": {
      "text/html": [
       "<div>\n",
       "<style scoped>\n",
       "    .dataframe tbody tr th:only-of-type {\n",
       "        vertical-align: middle;\n",
       "    }\n",
       "\n",
       "    .dataframe tbody tr th {\n",
       "        vertical-align: top;\n",
       "    }\n",
       "\n",
       "    .dataframe thead th {\n",
       "        text-align: right;\n",
       "    }\n",
       "</style>\n",
       "<table border=\"1\" class=\"dataframe\">\n",
       "  <thead>\n",
       "    <tr style=\"text-align: right;\">\n",
       "      <th></th>\n",
       "      <th>Id</th>\n",
       "      <th>MSSubClass</th>\n",
       "      <th>MSZoning</th>\n",
       "      <th>LotFrontage</th>\n",
       "      <th>LotArea</th>\n",
       "      <th>Street</th>\n",
       "      <th>Alley</th>\n",
       "      <th>LotShape</th>\n",
       "      <th>LandContour</th>\n",
       "      <th>Utilities</th>\n",
       "      <th>...</th>\n",
       "      <th>PoolArea</th>\n",
       "      <th>PoolQC</th>\n",
       "      <th>Fence</th>\n",
       "      <th>MiscFeature</th>\n",
       "      <th>MiscVal</th>\n",
       "      <th>MoSold</th>\n",
       "      <th>YrSold</th>\n",
       "      <th>SaleType</th>\n",
       "      <th>SaleCondition</th>\n",
       "      <th>SalePrice</th>\n",
       "    </tr>\n",
       "  </thead>\n",
       "  <tbody>\n",
       "    <tr>\n",
       "      <th>0</th>\n",
       "      <td>1</td>\n",
       "      <td>60</td>\n",
       "      <td>RL</td>\n",
       "      <td>65.0</td>\n",
       "      <td>8450</td>\n",
       "      <td>Pave</td>\n",
       "      <td>NaN</td>\n",
       "      <td>Reg</td>\n",
       "      <td>Lvl</td>\n",
       "      <td>AllPub</td>\n",
       "      <td>...</td>\n",
       "      <td>0</td>\n",
       "      <td>NaN</td>\n",
       "      <td>NaN</td>\n",
       "      <td>NaN</td>\n",
       "      <td>0</td>\n",
       "      <td>2</td>\n",
       "      <td>2008</td>\n",
       "      <td>WD</td>\n",
       "      <td>Normal</td>\n",
       "      <td>208500</td>\n",
       "    </tr>\n",
       "    <tr>\n",
       "      <th>1</th>\n",
       "      <td>2</td>\n",
       "      <td>20</td>\n",
       "      <td>RL</td>\n",
       "      <td>80.0</td>\n",
       "      <td>9600</td>\n",
       "      <td>Pave</td>\n",
       "      <td>NaN</td>\n",
       "      <td>Reg</td>\n",
       "      <td>Lvl</td>\n",
       "      <td>AllPub</td>\n",
       "      <td>...</td>\n",
       "      <td>0</td>\n",
       "      <td>NaN</td>\n",
       "      <td>NaN</td>\n",
       "      <td>NaN</td>\n",
       "      <td>0</td>\n",
       "      <td>5</td>\n",
       "      <td>2007</td>\n",
       "      <td>WD</td>\n",
       "      <td>Normal</td>\n",
       "      <td>181500</td>\n",
       "    </tr>\n",
       "    <tr>\n",
       "      <th>2</th>\n",
       "      <td>3</td>\n",
       "      <td>60</td>\n",
       "      <td>RL</td>\n",
       "      <td>68.0</td>\n",
       "      <td>11250</td>\n",
       "      <td>Pave</td>\n",
       "      <td>NaN</td>\n",
       "      <td>IR1</td>\n",
       "      <td>Lvl</td>\n",
       "      <td>AllPub</td>\n",
       "      <td>...</td>\n",
       "      <td>0</td>\n",
       "      <td>NaN</td>\n",
       "      <td>NaN</td>\n",
       "      <td>NaN</td>\n",
       "      <td>0</td>\n",
       "      <td>9</td>\n",
       "      <td>2008</td>\n",
       "      <td>WD</td>\n",
       "      <td>Normal</td>\n",
       "      <td>223500</td>\n",
       "    </tr>\n",
       "    <tr>\n",
       "      <th>3</th>\n",
       "      <td>4</td>\n",
       "      <td>70</td>\n",
       "      <td>RL</td>\n",
       "      <td>60.0</td>\n",
       "      <td>9550</td>\n",
       "      <td>Pave</td>\n",
       "      <td>NaN</td>\n",
       "      <td>IR1</td>\n",
       "      <td>Lvl</td>\n",
       "      <td>AllPub</td>\n",
       "      <td>...</td>\n",
       "      <td>0</td>\n",
       "      <td>NaN</td>\n",
       "      <td>NaN</td>\n",
       "      <td>NaN</td>\n",
       "      <td>0</td>\n",
       "      <td>2</td>\n",
       "      <td>2006</td>\n",
       "      <td>WD</td>\n",
       "      <td>Abnorml</td>\n",
       "      <td>140000</td>\n",
       "    </tr>\n",
       "    <tr>\n",
       "      <th>4</th>\n",
       "      <td>5</td>\n",
       "      <td>60</td>\n",
       "      <td>RL</td>\n",
       "      <td>84.0</td>\n",
       "      <td>14260</td>\n",
       "      <td>Pave</td>\n",
       "      <td>NaN</td>\n",
       "      <td>IR1</td>\n",
       "      <td>Lvl</td>\n",
       "      <td>AllPub</td>\n",
       "      <td>...</td>\n",
       "      <td>0</td>\n",
       "      <td>NaN</td>\n",
       "      <td>NaN</td>\n",
       "      <td>NaN</td>\n",
       "      <td>0</td>\n",
       "      <td>12</td>\n",
       "      <td>2008</td>\n",
       "      <td>WD</td>\n",
       "      <td>Normal</td>\n",
       "      <td>250000</td>\n",
       "    </tr>\n",
       "  </tbody>\n",
       "</table>\n",
       "<p>5 rows × 81 columns</p>\n",
       "</div>"
      ],
      "text/plain": [
       "   Id  MSSubClass MSZoning  LotFrontage  LotArea Street Alley LotShape  \\\n",
       "0   1          60       RL         65.0     8450   Pave   NaN      Reg   \n",
       "1   2          20       RL         80.0     9600   Pave   NaN      Reg   \n",
       "2   3          60       RL         68.0    11250   Pave   NaN      IR1   \n",
       "3   4          70       RL         60.0     9550   Pave   NaN      IR1   \n",
       "4   5          60       RL         84.0    14260   Pave   NaN      IR1   \n",
       "\n",
       "  LandContour Utilities  ... PoolArea PoolQC Fence MiscFeature MiscVal MoSold  \\\n",
       "0         Lvl    AllPub  ...        0    NaN   NaN         NaN       0      2   \n",
       "1         Lvl    AllPub  ...        0    NaN   NaN         NaN       0      5   \n",
       "2         Lvl    AllPub  ...        0    NaN   NaN         NaN       0      9   \n",
       "3         Lvl    AllPub  ...        0    NaN   NaN         NaN       0      2   \n",
       "4         Lvl    AllPub  ...        0    NaN   NaN         NaN       0     12   \n",
       "\n",
       "  YrSold  SaleType  SaleCondition  SalePrice  \n",
       "0   2008        WD         Normal     208500  \n",
       "1   2007        WD         Normal     181500  \n",
       "2   2008        WD         Normal     223500  \n",
       "3   2006        WD        Abnorml     140000  \n",
       "4   2008        WD         Normal     250000  \n",
       "\n",
       "[5 rows x 81 columns]"
      ]
     },
     "execution_count": 2,
     "metadata": {},
     "output_type": "execute_result"
    }
   ],
   "source": [
    "df_housing = pd.read_csv(\"train.csv\")\n",
    "df_housing.head()"
   ]
  },
  {
   "cell_type": "code",
   "execution_count": 3,
   "id": "c1b8b329",
   "metadata": {},
   "outputs": [
    {
     "name": "stdout",
     "output_type": "stream",
     "text": [
      "<class 'pandas.core.frame.DataFrame'>\n",
      "RangeIndex: 1460 entries, 0 to 1459\n",
      "Data columns (total 81 columns):\n",
      " #   Column         Non-Null Count  Dtype  \n",
      "---  ------         --------------  -----  \n",
      " 0   Id             1460 non-null   int64  \n",
      " 1   MSSubClass     1460 non-null   int64  \n",
      " 2   MSZoning       1460 non-null   object \n",
      " 3   LotFrontage    1201 non-null   float64\n",
      " 4   LotArea        1460 non-null   int64  \n",
      " 5   Street         1460 non-null   object \n",
      " 6   Alley          91 non-null     object \n",
      " 7   LotShape       1460 non-null   object \n",
      " 8   LandContour    1460 non-null   object \n",
      " 9   Utilities      1460 non-null   object \n",
      " 10  LotConfig      1460 non-null   object \n",
      " 11  LandSlope      1460 non-null   object \n",
      " 12  Neighborhood   1460 non-null   object \n",
      " 13  Condition1     1460 non-null   object \n",
      " 14  Condition2     1460 non-null   object \n",
      " 15  BldgType       1460 non-null   object \n",
      " 16  HouseStyle     1460 non-null   object \n",
      " 17  OverallQual    1460 non-null   int64  \n",
      " 18  OverallCond    1460 non-null   int64  \n",
      " 19  YearBuilt      1460 non-null   int64  \n",
      " 20  YearRemodAdd   1460 non-null   int64  \n",
      " 21  RoofStyle      1460 non-null   object \n",
      " 22  RoofMatl       1460 non-null   object \n",
      " 23  Exterior1st    1460 non-null   object \n",
      " 24  Exterior2nd    1460 non-null   object \n",
      " 25  MasVnrType     588 non-null    object \n",
      " 26  MasVnrArea     1452 non-null   float64\n",
      " 27  ExterQual      1460 non-null   object \n",
      " 28  ExterCond      1460 non-null   object \n",
      " 29  Foundation     1460 non-null   object \n",
      " 30  BsmtQual       1423 non-null   object \n",
      " 31  BsmtCond       1423 non-null   object \n",
      " 32  BsmtExposure   1422 non-null   object \n",
      " 33  BsmtFinType1   1423 non-null   object \n",
      " 34  BsmtFinSF1     1460 non-null   int64  \n",
      " 35  BsmtFinType2   1422 non-null   object \n",
      " 36  BsmtFinSF2     1460 non-null   int64  \n",
      " 37  BsmtUnfSF      1460 non-null   int64  \n",
      " 38  TotalBsmtSF    1460 non-null   int64  \n",
      " 39  Heating        1460 non-null   object \n",
      " 40  HeatingQC      1460 non-null   object \n",
      " 41  CentralAir     1460 non-null   object \n",
      " 42  Electrical     1459 non-null   object \n",
      " 43  1stFlrSF       1460 non-null   int64  \n",
      " 44  2ndFlrSF       1460 non-null   int64  \n",
      " 45  LowQualFinSF   1460 non-null   int64  \n",
      " 46  GrLivArea      1460 non-null   int64  \n",
      " 47  BsmtFullBath   1460 non-null   int64  \n",
      " 48  BsmtHalfBath   1460 non-null   int64  \n",
      " 49  FullBath       1460 non-null   int64  \n",
      " 50  HalfBath       1460 non-null   int64  \n",
      " 51  BedroomAbvGr   1460 non-null   int64  \n",
      " 52  KitchenAbvGr   1460 non-null   int64  \n",
      " 53  KitchenQual    1460 non-null   object \n",
      " 54  TotRmsAbvGrd   1460 non-null   int64  \n",
      " 55  Functional     1460 non-null   object \n",
      " 56  Fireplaces     1460 non-null   int64  \n",
      " 57  FireplaceQu    770 non-null    object \n",
      " 58  GarageType     1379 non-null   object \n",
      " 59  GarageYrBlt    1379 non-null   float64\n",
      " 60  GarageFinish   1379 non-null   object \n",
      " 61  GarageCars     1460 non-null   int64  \n",
      " 62  GarageArea     1460 non-null   int64  \n",
      " 63  GarageQual     1379 non-null   object \n",
      " 64  GarageCond     1379 non-null   object \n",
      " 65  PavedDrive     1460 non-null   object \n",
      " 66  WoodDeckSF     1460 non-null   int64  \n",
      " 67  OpenPorchSF    1460 non-null   int64  \n",
      " 68  EnclosedPorch  1460 non-null   int64  \n",
      " 69  3SsnPorch      1460 non-null   int64  \n",
      " 70  ScreenPorch    1460 non-null   int64  \n",
      " 71  PoolArea       1460 non-null   int64  \n",
      " 72  PoolQC         7 non-null      object \n",
      " 73  Fence          281 non-null    object \n",
      " 74  MiscFeature    54 non-null     object \n",
      " 75  MiscVal        1460 non-null   int64  \n",
      " 76  MoSold         1460 non-null   int64  \n",
      " 77  YrSold         1460 non-null   int64  \n",
      " 78  SaleType       1460 non-null   object \n",
      " 79  SaleCondition  1460 non-null   object \n",
      " 80  SalePrice      1460 non-null   int64  \n",
      "dtypes: float64(3), int64(35), object(43)\n",
      "memory usage: 924.0+ KB\n"
     ]
    }
   ],
   "source": [
    "df_housing.info()"
   ]
  },
  {
   "cell_type": "code",
   "execution_count": 4,
   "id": "d87527cd",
   "metadata": {},
   "outputs": [
    {
     "data": {
      "text/html": [
       "<div>\n",
       "<style scoped>\n",
       "    .dataframe tbody tr th:only-of-type {\n",
       "        vertical-align: middle;\n",
       "    }\n",
       "\n",
       "    .dataframe tbody tr th {\n",
       "        vertical-align: top;\n",
       "    }\n",
       "\n",
       "    .dataframe thead th {\n",
       "        text-align: right;\n",
       "    }\n",
       "</style>\n",
       "<table border=\"1\" class=\"dataframe\">\n",
       "  <thead>\n",
       "    <tr style=\"text-align: right;\">\n",
       "      <th></th>\n",
       "      <th>Id</th>\n",
       "      <th>MSSubClass</th>\n",
       "      <th>LotFrontage</th>\n",
       "      <th>LotArea</th>\n",
       "      <th>OverallQual</th>\n",
       "      <th>OverallCond</th>\n",
       "      <th>YearBuilt</th>\n",
       "      <th>YearRemodAdd</th>\n",
       "      <th>MasVnrArea</th>\n",
       "      <th>BsmtFinSF1</th>\n",
       "      <th>...</th>\n",
       "      <th>WoodDeckSF</th>\n",
       "      <th>OpenPorchSF</th>\n",
       "      <th>EnclosedPorch</th>\n",
       "      <th>3SsnPorch</th>\n",
       "      <th>ScreenPorch</th>\n",
       "      <th>PoolArea</th>\n",
       "      <th>MiscVal</th>\n",
       "      <th>MoSold</th>\n",
       "      <th>YrSold</th>\n",
       "      <th>SalePrice</th>\n",
       "    </tr>\n",
       "  </thead>\n",
       "  <tbody>\n",
       "    <tr>\n",
       "      <th>count</th>\n",
       "      <td>1460.000000</td>\n",
       "      <td>1460.000000</td>\n",
       "      <td>1201.000000</td>\n",
       "      <td>1460.000000</td>\n",
       "      <td>1460.000000</td>\n",
       "      <td>1460.000000</td>\n",
       "      <td>1460.000000</td>\n",
       "      <td>1460.000000</td>\n",
       "      <td>1452.000000</td>\n",
       "      <td>1460.000000</td>\n",
       "      <td>...</td>\n",
       "      <td>1460.000000</td>\n",
       "      <td>1460.000000</td>\n",
       "      <td>1460.000000</td>\n",
       "      <td>1460.000000</td>\n",
       "      <td>1460.000000</td>\n",
       "      <td>1460.000000</td>\n",
       "      <td>1460.000000</td>\n",
       "      <td>1460.000000</td>\n",
       "      <td>1460.000000</td>\n",
       "      <td>1460.000000</td>\n",
       "    </tr>\n",
       "    <tr>\n",
       "      <th>mean</th>\n",
       "      <td>730.500000</td>\n",
       "      <td>56.897260</td>\n",
       "      <td>70.049958</td>\n",
       "      <td>10516.828082</td>\n",
       "      <td>6.099315</td>\n",
       "      <td>5.575342</td>\n",
       "      <td>1971.267808</td>\n",
       "      <td>1984.865753</td>\n",
       "      <td>103.685262</td>\n",
       "      <td>443.639726</td>\n",
       "      <td>...</td>\n",
       "      <td>94.244521</td>\n",
       "      <td>46.660274</td>\n",
       "      <td>21.954110</td>\n",
       "      <td>3.409589</td>\n",
       "      <td>15.060959</td>\n",
       "      <td>2.758904</td>\n",
       "      <td>43.489041</td>\n",
       "      <td>6.321918</td>\n",
       "      <td>2007.815753</td>\n",
       "      <td>180921.195890</td>\n",
       "    </tr>\n",
       "    <tr>\n",
       "      <th>std</th>\n",
       "      <td>421.610009</td>\n",
       "      <td>42.300571</td>\n",
       "      <td>24.284752</td>\n",
       "      <td>9981.264932</td>\n",
       "      <td>1.382997</td>\n",
       "      <td>1.112799</td>\n",
       "      <td>30.202904</td>\n",
       "      <td>20.645407</td>\n",
       "      <td>181.066207</td>\n",
       "      <td>456.098091</td>\n",
       "      <td>...</td>\n",
       "      <td>125.338794</td>\n",
       "      <td>66.256028</td>\n",
       "      <td>61.119149</td>\n",
       "      <td>29.317331</td>\n",
       "      <td>55.757415</td>\n",
       "      <td>40.177307</td>\n",
       "      <td>496.123024</td>\n",
       "      <td>2.703626</td>\n",
       "      <td>1.328095</td>\n",
       "      <td>79442.502883</td>\n",
       "    </tr>\n",
       "    <tr>\n",
       "      <th>min</th>\n",
       "      <td>1.000000</td>\n",
       "      <td>20.000000</td>\n",
       "      <td>21.000000</td>\n",
       "      <td>1300.000000</td>\n",
       "      <td>1.000000</td>\n",
       "      <td>1.000000</td>\n",
       "      <td>1872.000000</td>\n",
       "      <td>1950.000000</td>\n",
       "      <td>0.000000</td>\n",
       "      <td>0.000000</td>\n",
       "      <td>...</td>\n",
       "      <td>0.000000</td>\n",
       "      <td>0.000000</td>\n",
       "      <td>0.000000</td>\n",
       "      <td>0.000000</td>\n",
       "      <td>0.000000</td>\n",
       "      <td>0.000000</td>\n",
       "      <td>0.000000</td>\n",
       "      <td>1.000000</td>\n",
       "      <td>2006.000000</td>\n",
       "      <td>34900.000000</td>\n",
       "    </tr>\n",
       "    <tr>\n",
       "      <th>25%</th>\n",
       "      <td>365.750000</td>\n",
       "      <td>20.000000</td>\n",
       "      <td>59.000000</td>\n",
       "      <td>7553.500000</td>\n",
       "      <td>5.000000</td>\n",
       "      <td>5.000000</td>\n",
       "      <td>1954.000000</td>\n",
       "      <td>1967.000000</td>\n",
       "      <td>0.000000</td>\n",
       "      <td>0.000000</td>\n",
       "      <td>...</td>\n",
       "      <td>0.000000</td>\n",
       "      <td>0.000000</td>\n",
       "      <td>0.000000</td>\n",
       "      <td>0.000000</td>\n",
       "      <td>0.000000</td>\n",
       "      <td>0.000000</td>\n",
       "      <td>0.000000</td>\n",
       "      <td>5.000000</td>\n",
       "      <td>2007.000000</td>\n",
       "      <td>129975.000000</td>\n",
       "    </tr>\n",
       "    <tr>\n",
       "      <th>50%</th>\n",
       "      <td>730.500000</td>\n",
       "      <td>50.000000</td>\n",
       "      <td>69.000000</td>\n",
       "      <td>9478.500000</td>\n",
       "      <td>6.000000</td>\n",
       "      <td>5.000000</td>\n",
       "      <td>1973.000000</td>\n",
       "      <td>1994.000000</td>\n",
       "      <td>0.000000</td>\n",
       "      <td>383.500000</td>\n",
       "      <td>...</td>\n",
       "      <td>0.000000</td>\n",
       "      <td>25.000000</td>\n",
       "      <td>0.000000</td>\n",
       "      <td>0.000000</td>\n",
       "      <td>0.000000</td>\n",
       "      <td>0.000000</td>\n",
       "      <td>0.000000</td>\n",
       "      <td>6.000000</td>\n",
       "      <td>2008.000000</td>\n",
       "      <td>163000.000000</td>\n",
       "    </tr>\n",
       "    <tr>\n",
       "      <th>75%</th>\n",
       "      <td>1095.250000</td>\n",
       "      <td>70.000000</td>\n",
       "      <td>80.000000</td>\n",
       "      <td>11601.500000</td>\n",
       "      <td>7.000000</td>\n",
       "      <td>6.000000</td>\n",
       "      <td>2000.000000</td>\n",
       "      <td>2004.000000</td>\n",
       "      <td>166.000000</td>\n",
       "      <td>712.250000</td>\n",
       "      <td>...</td>\n",
       "      <td>168.000000</td>\n",
       "      <td>68.000000</td>\n",
       "      <td>0.000000</td>\n",
       "      <td>0.000000</td>\n",
       "      <td>0.000000</td>\n",
       "      <td>0.000000</td>\n",
       "      <td>0.000000</td>\n",
       "      <td>8.000000</td>\n",
       "      <td>2009.000000</td>\n",
       "      <td>214000.000000</td>\n",
       "    </tr>\n",
       "    <tr>\n",
       "      <th>max</th>\n",
       "      <td>1460.000000</td>\n",
       "      <td>190.000000</td>\n",
       "      <td>313.000000</td>\n",
       "      <td>215245.000000</td>\n",
       "      <td>10.000000</td>\n",
       "      <td>9.000000</td>\n",
       "      <td>2010.000000</td>\n",
       "      <td>2010.000000</td>\n",
       "      <td>1600.000000</td>\n",
       "      <td>5644.000000</td>\n",
       "      <td>...</td>\n",
       "      <td>857.000000</td>\n",
       "      <td>547.000000</td>\n",
       "      <td>552.000000</td>\n",
       "      <td>508.000000</td>\n",
       "      <td>480.000000</td>\n",
       "      <td>738.000000</td>\n",
       "      <td>15500.000000</td>\n",
       "      <td>12.000000</td>\n",
       "      <td>2010.000000</td>\n",
       "      <td>755000.000000</td>\n",
       "    </tr>\n",
       "  </tbody>\n",
       "</table>\n",
       "<p>8 rows × 38 columns</p>\n",
       "</div>"
      ],
      "text/plain": [
       "                Id   MSSubClass  LotFrontage        LotArea  OverallQual  \\\n",
       "count  1460.000000  1460.000000  1201.000000    1460.000000  1460.000000   \n",
       "mean    730.500000    56.897260    70.049958   10516.828082     6.099315   \n",
       "std     421.610009    42.300571    24.284752    9981.264932     1.382997   \n",
       "min       1.000000    20.000000    21.000000    1300.000000     1.000000   \n",
       "25%     365.750000    20.000000    59.000000    7553.500000     5.000000   \n",
       "50%     730.500000    50.000000    69.000000    9478.500000     6.000000   \n",
       "75%    1095.250000    70.000000    80.000000   11601.500000     7.000000   \n",
       "max    1460.000000   190.000000   313.000000  215245.000000    10.000000   \n",
       "\n",
       "       OverallCond    YearBuilt  YearRemodAdd   MasVnrArea   BsmtFinSF1  ...  \\\n",
       "count  1460.000000  1460.000000   1460.000000  1452.000000  1460.000000  ...   \n",
       "mean      5.575342  1971.267808   1984.865753   103.685262   443.639726  ...   \n",
       "std       1.112799    30.202904     20.645407   181.066207   456.098091  ...   \n",
       "min       1.000000  1872.000000   1950.000000     0.000000     0.000000  ...   \n",
       "25%       5.000000  1954.000000   1967.000000     0.000000     0.000000  ...   \n",
       "50%       5.000000  1973.000000   1994.000000     0.000000   383.500000  ...   \n",
       "75%       6.000000  2000.000000   2004.000000   166.000000   712.250000  ...   \n",
       "max       9.000000  2010.000000   2010.000000  1600.000000  5644.000000  ...   \n",
       "\n",
       "        WoodDeckSF  OpenPorchSF  EnclosedPorch    3SsnPorch  ScreenPorch  \\\n",
       "count  1460.000000  1460.000000    1460.000000  1460.000000  1460.000000   \n",
       "mean     94.244521    46.660274      21.954110     3.409589    15.060959   \n",
       "std     125.338794    66.256028      61.119149    29.317331    55.757415   \n",
       "min       0.000000     0.000000       0.000000     0.000000     0.000000   \n",
       "25%       0.000000     0.000000       0.000000     0.000000     0.000000   \n",
       "50%       0.000000    25.000000       0.000000     0.000000     0.000000   \n",
       "75%     168.000000    68.000000       0.000000     0.000000     0.000000   \n",
       "max     857.000000   547.000000     552.000000   508.000000   480.000000   \n",
       "\n",
       "          PoolArea       MiscVal       MoSold       YrSold      SalePrice  \n",
       "count  1460.000000   1460.000000  1460.000000  1460.000000    1460.000000  \n",
       "mean      2.758904     43.489041     6.321918  2007.815753  180921.195890  \n",
       "std      40.177307    496.123024     2.703626     1.328095   79442.502883  \n",
       "min       0.000000      0.000000     1.000000  2006.000000   34900.000000  \n",
       "25%       0.000000      0.000000     5.000000  2007.000000  129975.000000  \n",
       "50%       0.000000      0.000000     6.000000  2008.000000  163000.000000  \n",
       "75%       0.000000      0.000000     8.000000  2009.000000  214000.000000  \n",
       "max     738.000000  15500.000000    12.000000  2010.000000  755000.000000  \n",
       "\n",
       "[8 rows x 38 columns]"
      ]
     },
     "execution_count": 4,
     "metadata": {},
     "output_type": "execute_result"
    }
   ],
   "source": [
    "df_housing.describe()"
   ]
  },
  {
   "cell_type": "code",
   "execution_count": 5,
   "id": "10dd3fad",
   "metadata": {},
   "outputs": [
    {
     "data": {
      "text/plain": [
       "(1460, 81)"
      ]
     },
     "execution_count": 5,
     "metadata": {},
     "output_type": "execute_result"
    }
   ],
   "source": [
    "df_housing.shape"
   ]
  },
  {
   "cell_type": "markdown",
   "id": "8a25f3a1",
   "metadata": {},
   "source": [
    "As per input data, we can observe the following points:\n",
    " - There are 1460 entries or data points from input provided\n",
    " - Data has 81 inital columns including independent and dependent target variable 'SalePrice'."
   ]
  },
  {
   "cell_type": "markdown",
   "id": "16ddc109",
   "metadata": {},
   "source": [
    "## Univariate analysis and Data cleaning:\n",
    "\n",
    "As per observation from initial data there are several none(NA) values present in data. But as per data dictionary NA referes to catagory for some variables. "
   ]
  },
  {
   "cell_type": "code",
   "execution_count": 6,
   "id": "326dfd21-20f7-47d8-a910-07da2c20b7ee",
   "metadata": {},
   "outputs": [],
   "source": [
    "# Function to create dummy variables from column to reduce code length\n",
    "def make_dummys(df, column_name, drop_column=None):\n",
    "    if drop_column is None:\n",
    "        df_dummys = pd.get_dummies(df[column_name],drop_first = True)\n",
    "    else:\n",
    "        df_dummys = pd.get_dummies(df[column_name]).drop(drop_column, axis=1)\n",
    "    df_dummys = df_dummys.astype(int)\n",
    "    df = pd.concat([df, df_dummys], axis = 1)\n",
    "    # now drop input column name column from data\n",
    "    df = df.drop(column_name, axis=1)\n",
    "    return df"
   ]
  },
  {
   "cell_type": "markdown",
   "id": "939b3b6a-04e8-4f65-8f43-907060e74042",
   "metadata": {},
   "source": [
    "### Univariate analysis on continuous variables:"
   ]
  },
  {
   "cell_type": "markdown",
   "id": "cdeae77b-1d8b-49af-89aa-d771560401e6",
   "metadata": {},
   "source": [
    "#### Id:\n",
    "As per data in column Id is property identification number/serial number so we can remove this column from analysis."
   ]
  },
  {
   "cell_type": "code",
   "execution_count": 7,
   "id": "25312011-6cd7-4287-b9f8-84f4685daee1",
   "metadata": {},
   "outputs": [],
   "source": [
    "df_housing = df_housing.drop('Id', axis=1)"
   ]
  },
  {
   "cell_type": "markdown",
   "id": "235446a6-c37e-45c5-b58f-cb6829f598e9",
   "metadata": {},
   "source": [
    "#### LotFrontage:\n",
    "Numerical variable.\n",
    "Linear feet of street connected to property. This columns contains null values."
   ]
  },
  {
   "cell_type": "code",
   "execution_count": 8,
   "id": "21868220-d138-4641-b6b1-0f3e3406ba5e",
   "metadata": {},
   "outputs": [
    {
     "name": "stdout",
     "output_type": "stream",
     "text": [
      "Null values in LotFrontage: 259\n"
     ]
    },
    {
     "data": {
      "image/png": "[encoded data removed]",
      "text/plain": [
       "<Figure size 640x480 with 1 Axes>"
      ]
     },
     "metadata": {},
     "output_type": "display_data"
    }
   ],
   "source": [
    "print(\"Null values in LotFrontage:\",df_housing.LotFrontage.isna().sum())\n",
    "# Imputing null values with median value\n",
    "df_housing.LotFrontage = df_housing.LotFrontage.fillna(df_housing.LotFrontage.median())\n",
    "sns.boxplot(x = 'LotFrontage' ,data = df_housing)#  hue = 'YrSold',\n",
    "plt.show()"
   ]
  },
  {
   "cell_type": "code",
   "execution_count": 9,
   "id": "30668079-8a93-4a3b-b34d-0aa70eca666c",
   "metadata": {},
   "outputs": [
    {
     "name": "stdout",
     "output_type": "stream",
     "text": [
      "24\n"
     ]
    },
    {
     "data": {
      "text/plain": [
       "(1436, 80)"
      ]
     },
     "execution_count": 9,
     "metadata": {},
     "output_type": "execute_result"
    }
   ],
   "source": [
    "print(len(df_housing[df_housing.LotFrontage > 125]))\n",
    "# Droping outlier rows with LotFrontage more then 125\n",
    "df_housing =  df_housing[df_housing.LotFrontage < 125]\n",
    "df_housing.shape"
   ]
  },
  {
   "cell_type": "markdown",
   "id": "95a81562-dfbd-43c1-8ab1-3bdae78382d2",
   "metadata": {},
   "source": [
    "#### LotArea:\n",
    "Lot size in square feet"
   ]
  },
  {
   "cell_type": "code",
   "execution_count": 10,
   "id": "f801caad-1768-4701-91a6-c2e4d4f7ace6",
   "metadata": {},
   "outputs": [
    {
     "data": {
      "image/png": "[encoded data removed]",
      "text/plain": [
       "<Figure size 640x480 with 1 Axes>"
      ]
     },
     "metadata": {},
     "output_type": "display_data"
    }
   ],
   "source": [
    "sns.boxplot(x = 'LotArea' ,data = df_housing)#  hue = 'YrSold',\n",
    "plt.show()"
   ]
  },
  {
   "cell_type": "code",
   "execution_count": 11,
   "id": "189cae0b-9cf8-4b7d-8227-716e6527a7d7",
   "metadata": {},
   "outputs": [
    {
     "name": "stdout",
     "output_type": "stream",
     "text": [
      "45\n"
     ]
    },
    {
     "data": {
      "text/plain": [
       "(1391, 80)"
      ]
     },
     "execution_count": 11,
     "metadata": {},
     "output_type": "execute_result"
    }
   ],
   "source": [
    "print(len(df_housing[df_housing.LotArea > 20000]))\n",
    "# Droping outlier rows with LotArea more then 20000 sq feet\n",
    "df_housing =  df_housing[df_housing.LotArea < 20000]\n",
    "df_housing.shape"
   ]
  },
  {
   "cell_type": "markdown",
   "id": "c6b76914-6377-47ff-8d09-00a1856a8626",
   "metadata": {},
   "source": [
    "#### MasVnrArea: \n",
    "Masonry veneer area in square feet"
   ]
  },
  {
   "cell_type": "code",
   "execution_count": 12,
   "id": "44e60153-3985-40af-9f0f-d0c2a3e538be",
   "metadata": {},
   "outputs": [
    {
     "data": {
      "image/png": "[encoded data removed]",
      "text/plain": [
       "<Figure size 640x480 with 1 Axes>"
      ]
     },
     "metadata": {},
     "output_type": "display_data"
    },
    {
     "name": "stdout",
     "output_type": "stream",
     "text": [
      "Null values in LotFrontage: 7\n"
     ]
    }
   ],
   "source": [
    "sns.boxplot(x = 'MasVnrArea' ,data = df_housing)#  hue = 'YrSold',\n",
    "plt.show()\n",
    "print(\"Null values in LotFrontage:\",df_housing.MasVnrArea.isna().sum())"
   ]
  },
  {
   "cell_type": "code",
   "execution_count": 13,
   "id": "d9d993f0-7510-4deb-bc8a-c7afbc9f1f13",
   "metadata": {},
   "outputs": [
    {
     "data": {
      "text/plain": [
       "(1368, 80)"
      ]
     },
     "execution_count": 13,
     "metadata": {},
     "output_type": "execute_result"
    }
   ],
   "source": [
    "# Removing rows where null values present\n",
    "df_housing = df_housing[~df_housing.MasVnrArea.isna()]\n",
    "# Removing outliers which value more then 750\n",
    "df_housing = df_housing[df_housing.MasVnrArea < 750]\n",
    "df_housing.shape"
   ]
  },
  {
   "cell_type": "markdown",
   "id": "b96b6696-a202-4e35-9f93-cac989ca2385",
   "metadata": {},
   "source": [
    "#### BsmtFinSF1: \n",
    "Type 1 finished square feet"
   ]
  },
  {
   "cell_type": "code",
   "execution_count": 14,
   "id": "3bb5a460-1e36-47d0-95b2-57b483ac3101",
   "metadata": {},
   "outputs": [
    {
     "data": {
      "image/png": "[encoded data removed]",
      "text/plain": [
       "<Figure size 640x480 with 1 Axes>"
      ]
     },
     "metadata": {},
     "output_type": "display_data"
    },
    {
     "name": "stdout",
     "output_type": "stream",
     "text": [
      "Null values in LotFrontage: 0\n"
     ]
    }
   ],
   "source": [
    "sns.boxplot(x = 'BsmtFinSF1' ,data = df_housing)#  hue = 'YrSold',\n",
    "plt.show()\n",
    "print(\"Null values in LotFrontage:\",df_housing.BsmtFinSF1.isna().sum())"
   ]
  },
  {
   "cell_type": "code",
   "execution_count": 15,
   "id": "ad7bee70-fca4-4969-ab48-329df457d14b",
   "metadata": {},
   "outputs": [
    {
     "data": {
      "text/plain": [
       "(1366, 80)"
      ]
     },
     "execution_count": 15,
     "metadata": {},
     "output_type": "execute_result"
    }
   ],
   "source": [
    "# Removing outliers which value more then 750\n",
    "df_housing = df_housing[df_housing.BsmtFinSF1 < 1750]\n",
    "df_housing.shape"
   ]
  },
  {
   "cell_type": "markdown",
   "id": "a3ec96bd-ff29-4589-91a7-575e3c5a3659",
   "metadata": {},
   "source": [
    "#### BsmtFinSF2:\n",
    "Type 2 finished square feet"
   ]
  },
  {
   "cell_type": "code",
   "execution_count": 16,
   "id": "af1e976e-87ef-4de4-920a-dc5f5443bae3",
   "metadata": {},
   "outputs": [
    {
     "data": {
      "image/png": "[encoded data removed]",
      "text/plain": [
       "<Figure size 640x480 with 1 Axes>"
      ]
     },
     "metadata": {},
     "output_type": "display_data"
    },
    {
     "name": "stdout",
     "output_type": "stream",
     "text": [
      "Null values in LotFrontage: 0\n"
     ]
    }
   ],
   "source": [
    "sns.boxplot(x = 'BsmtFinSF2' ,data = df_housing)#  hue = 'YrSold',\n",
    "plt.show()\n",
    "print(\"Null values in LotFrontage:\",df_housing.BsmtFinSF2.isna().sum())"
   ]
  },
  {
   "cell_type": "markdown",
   "id": "ccbe65ca-cb4a-42b3-80e7-9cc03d34373d",
   "metadata": {},
   "source": [
    "From the above observation most of the values in 'BsmtFinSF2' column values are 0. So we can ignore this variable from our analysis"
   ]
  },
  {
   "cell_type": "code",
   "execution_count": 17,
   "id": "6ee75e4f-8f53-4ea6-8530-39e64a6675e0",
   "metadata": {},
   "outputs": [
    {
     "data": {
      "text/plain": [
       "(1366, 79)"
      ]
     },
     "execution_count": 17,
     "metadata": {},
     "output_type": "execute_result"
    }
   ],
   "source": [
    "df_housing = df_housing.drop('BsmtFinSF2', axis=1)\n",
    "df_housing.shape"
   ]
  },
  {
   "cell_type": "markdown",
   "id": "ca3c1bd3-d9ff-491e-bb22-151b7d46b835",
   "metadata": {},
   "source": [
    "#### BsmtUnfSF: \n",
    "Unfinished square feet of basement area"
   ]
  },
  {
   "cell_type": "code",
   "execution_count": 18,
   "id": "579f47cc-0664-483a-bdf5-0fbbb5dc36c5",
   "metadata": {},
   "outputs": [
    {
     "data": {
      "image/png": "[encoded data removed]",
      "text/plain": [
       "<Figure size 640x480 with 1 Axes>"
      ]
     },
     "metadata": {},
     "output_type": "display_data"
    },
    {
     "name": "stdout",
     "output_type": "stream",
     "text": [
      "Null values in BsmtUnfSF: 0\n"
     ]
    }
   ],
   "source": [
    "sns.boxplot(x = 'BsmtUnfSF' ,data = df_housing)#  hue = 'YrSold',\n",
    "plt.show()\n",
    "print(\"Null values in BsmtUnfSF:\",df_housing.BsmtUnfSF.isna().sum())"
   ]
  },
  {
   "cell_type": "markdown",
   "id": "03983ef4-4e0d-4adb-8167-24c2edd83970",
   "metadata": {},
   "source": [
    "#### TotalBsmtSF: \n",
    "Total square feet of basement area"
   ]
  },
  {
   "cell_type": "code",
   "execution_count": 19,
   "id": "db9e9695-9f1d-4575-bb0c-2d501643df4e",
   "metadata": {},
   "outputs": [
    {
     "data": {
      "image/png": "[encoded data removed]",
      "text/plain": [
       "<Figure size 640x480 with 1 Axes>"
      ]
     },
     "metadata": {},
     "output_type": "display_data"
    },
    {
     "name": "stdout",
     "output_type": "stream",
     "text": [
      "Null values in TotalBsmtSF: 0\n"
     ]
    }
   ],
   "source": [
    "sns.boxplot(x = 'TotalBsmtSF' ,data = df_housing)#  hue = 'YrSold',\n",
    "plt.show()\n",
    "print(\"Null values in TotalBsmtSF:\",df_housing.TotalBsmtSF.isna().sum())"
   ]
  },
  {
   "cell_type": "code",
   "execution_count": 20,
   "id": "914b81aa-4ce5-4cbe-8d14-7f383be621ec",
   "metadata": {},
   "outputs": [
    {
     "data": {
      "text/plain": [
       "(1362, 79)"
      ]
     },
     "execution_count": 20,
     "metadata": {},
     "output_type": "execute_result"
    }
   ],
   "source": [
    "# Removing outliers which value more then \n",
    "df_housing = df_housing[df_housing.TotalBsmtSF < 2400]\n",
    "df_housing.shape"
   ]
  },
  {
   "cell_type": "markdown",
   "id": "4369429b-15f5-4945-a840-4cac492f431e",
   "metadata": {},
   "source": [
    "#### 1stFlrSF:\n",
    "First Floor square feet"
   ]
  },
  {
   "cell_type": "code",
   "execution_count": 21,
   "id": "a64c80c9-0801-4da3-9f02-0168b2c735fa",
   "metadata": {},
   "outputs": [
    {
     "data": {
      "image/png": "[encoded data removed]",
      "text/plain": [
       "<Figure size 640x480 with 1 Axes>"
      ]
     },
     "metadata": {},
     "output_type": "display_data"
    },
    {
     "name": "stdout",
     "output_type": "stream",
     "text": [
      "Null values in 1stFlrSF: 0\n"
     ]
    }
   ],
   "source": [
    "sns.boxplot(x = '1stFlrSF' ,data = df_housing)#  hue = 'YrSold',\n",
    "plt.show()\n",
    "print(\"Null values in 1stFlrSF:\",df_housing['1stFlrSF'].isna().sum())"
   ]
  },
  {
   "cell_type": "code",
   "execution_count": 22,
   "id": "e00de2ca-7cf3-4686-8699-4d01070199df",
   "metadata": {},
   "outputs": [
    {
     "data": {
      "text/plain": [
       "(1361, 79)"
      ]
     },
     "execution_count": 22,
     "metadata": {},
     "output_type": "execute_result"
    }
   ],
   "source": [
    "# Removing outliers which value more then 2500\n",
    "df_housing = df_housing[df_housing['1stFlrSF'] < 2500]\n",
    "df_housing.shape"
   ]
  },
  {
   "cell_type": "markdown",
   "id": "e0605392-c5db-4282-a7b6-fbb6a71c0156",
   "metadata": {},
   "source": [
    "#### 2ndFlrSF: \n",
    "Second floor square feet"
   ]
  },
  {
   "cell_type": "code",
   "execution_count": 23,
   "id": "2d448a85-8507-4243-b24e-3878cd385e28",
   "metadata": {},
   "outputs": [
    {
     "data": {
      "image/png": "[encoded data removed]",
      "text/plain": [
       "<Figure size 640x480 with 1 Axes>"
      ]
     },
     "metadata": {},
     "output_type": "display_data"
    },
    {
     "name": "stdout",
     "output_type": "stream",
     "text": [
      "Null values in 2ndFlrSF: 0\n"
     ]
    }
   ],
   "source": [
    "sns.boxplot(x = '2ndFlrSF' ,data = df_housing)#  hue = 'YrSold',\n",
    "plt.show()\n",
    "print(\"Null values in 2ndFlrSF:\",df_housing['2ndFlrSF'].isna().sum())"
   ]
  },
  {
   "cell_type": "code",
   "execution_count": 24,
   "id": "d053a3fa-7a29-44bd-9997-f1ccb9c54281",
   "metadata": {},
   "outputs": [
    {
     "data": {
      "text/plain": [
       "(1360, 79)"
      ]
     },
     "execution_count": 24,
     "metadata": {},
     "output_type": "execute_result"
    }
   ],
   "source": [
    "# Removing outliers which value more then 2500\n",
    "df_housing = df_housing[df_housing['2ndFlrSF'] < 1750]\n",
    "df_housing.shape"
   ]
  },
  {
   "cell_type": "markdown",
   "id": "afbca76c-ff11-496b-a131-58720b8b2c99",
   "metadata": {},
   "source": [
    "#### LowQualFinSF: \n",
    "Low quality finished square feet (all floors)"
   ]
  },
  {
   "cell_type": "markdown",
   "id": "38ade652-127e-43a8-bde8-985387837de5",
   "metadata": {},
   "source": [
    "#### GrLivArea: \n",
    "Above grade (ground) living area square feet"
   ]
  },
  {
   "cell_type": "markdown",
   "id": "b75f85c2-9da4-4b43-940d-3adb8171a0c6",
   "metadata": {},
   "source": [
    "#### GarageArea: \n",
    "Size of garage in square feet"
   ]
  },
  {
   "cell_type": "markdown",
   "id": "b4f3dff4-c10e-42c1-9105-ba11facd8803",
   "metadata": {},
   "source": [
    "#### WoodDeckSF:\n",
    "Wood deck area in square feet"
   ]
  },
  {
   "cell_type": "markdown",
   "id": "3103ae71-d737-45cd-ac75-fee2885f4ed2",
   "metadata": {},
   "source": [
    "#### OpenPorchSF: \n",
    "Open porch area in square feet"
   ]
  },
  {
   "cell_type": "markdown",
   "id": "d5f1719c-a4ab-4e7b-933a-cbe0a4a9d47c",
   "metadata": {},
   "source": [
    "#### EnclosedPorch: \n",
    "Enclosed porch area in square feet"
   ]
  },
  {
   "cell_type": "markdown",
   "id": "cfa78326-b8c6-4038-a968-057b70f04d59",
   "metadata": {},
   "source": [
    "#### 3SsnPorch: \n",
    "Three season porch area in square feet"
   ]
  },
  {
   "cell_type": "markdown",
   "id": "6459db3e-f7ce-4f25-9472-fc246d1fd30d",
   "metadata": {},
   "source": [
    "#### ScreenPorch: \n",
    "Screen porch area in square feet"
   ]
  },
  {
   "cell_type": "markdown",
   "id": "a2235a25-2f0b-4793-a615-94cad6c80799",
   "metadata": {},
   "source": [
    "#### PoolArea: \n",
    "Pool area in square feet"
   ]
  },
  {
   "cell_type": "markdown",
   "id": "2ff1918e-1c63-49d7-a1bb-c9b4c4bbcc06",
   "metadata": {},
   "source": [
    "#### PoolQC: \n",
    "Pool quality\n",
    "\t\t\n",
    "       Ex\tExcellent\n",
    "       Gd\tGood\n",
    "       TA\tAverage/Typical\n",
    "       Fa\tFair\n",
    "       NA\tNo Pool"
   ]
  },
  {
   "cell_type": "markdown",
   "id": "db96dcc0-4f99-45f1-9e48-a05e3bd55c38",
   "metadata": {},
   "source": [
    "#### Fence: \n",
    "Fence quality\n",
    "\t\t\n",
    "       GdPrv\tGood Privacy\n",
    "       MnPrv\tMinimum Privacy\n",
    "       GdWo\tGood Wood\n",
    "       MnWw\tMinimum Wood/Wire\n",
    "       NA\tNo Fence"
   ]
  },
  {
   "cell_type": "markdown",
   "id": "e1a09a63-22b4-42ae-a399-7a4af240e720",
   "metadata": {},
   "source": [
    "#### MiscVal: \n",
    "$Value of miscellaneous feature\r\n"
   ]
  },
  {
   "cell_type": "code",
   "execution_count": null,
   "id": "7da2c8f3-fc15-4ffe-8d34-103e4a96ecb5",
   "metadata": {},
   "outputs": [],
   "source": []
  },
  {
   "cell_type": "code",
   "execution_count": null,
   "id": "62d2fa1f-8c51-4c63-9e05-5c0691968521",
   "metadata": {},
   "outputs": [],
   "source": []
  },
  {
   "cell_type": "markdown",
   "id": "7388a5f3-e8c7-4992-8483-35a48d9e936c",
   "metadata": {},
   "source": [
    "### Univariate analysis on continuous catagorical variables:"
   ]
  },
  {
   "cell_type": "markdown",
   "id": "483a8f02-8a32-41b7-a28b-db1c90f8821e",
   "metadata": {},
   "source": [
    "#### Alley: \n",
    "Type of alley access to property\n",
    "- Grvl\t&emsp;Gravel\n",
    "- Pave\t&emsp;Paved\n",
    "- NA \t&emsp;No alley access\n",
    "\n",
    "This column contain null values which represents No Alley access to property.\n",
    "we can make dummy variables from this column by mapping variable names as follows."
   ]
  },
  {
   "cell_type": "code",
   "execution_count": 25,
   "id": "5c138499-5611-4ede-bd86-5a92a3bc2b6f",
   "metadata": {},
   "outputs": [
    {
     "name": "stdout",
     "output_type": "stream",
     "text": [
      "Null values in LotFrontage: 0\n"
     ]
    }
   ],
   "source": [
    "df_housing.Alley = df_housing.Alley.fillna(\"Alley_no\")\n",
    "print(\"Null values in LotFrontage:\",df_housing.Alley.isna().sum())"
   ]
  },
  {
   "cell_type": "code",
   "execution_count": 26,
   "id": "029477ac-97ce-4d5d-9144-83d0e167d117",
   "metadata": {},
   "outputs": [
    {
     "data": {
      "image/png": "[encoded data removed]",
      "text/plain": [
       "<Figure size 640x480 with 1 Axes>"
      ]
     },
     "metadata": {},
     "output_type": "display_data"
    }
   ],
   "source": [
    "df_housing.Alley = df_housing.Alley.map({'Grvl':1, \n",
    "                                           'Pave':2,\n",
    "                                             'Alley_no':0\n",
    "                                          })\n",
    "pt_MSZoning = pd.pivot_table(df_housing, values='SalePrice', index='Alley', columns='YrSold', aggfunc='mean')\n",
    "pt_MSZoning.plot(kind='bar', rot=45,  ylabel='SalePrice', title=\"Sales Vs Alley\")\n",
    "plt.show()"
   ]
  },
  {
   "cell_type": "markdown",
   "id": "a70cf328-3e41-4c50-81ca-c8b99c92e604",
   "metadata": {},
   "source": [
    "#### LotShape:\n",
    "General shape of property\n",
    "\n",
    "       Reg\tRegular\t\n",
    "       IR1\tSlightly irregular\n",
    "       IR2\tModerately Irregular\n",
    "       IR3\tIrregular\n",
    "There are no null values present in this column\n",
    "We can make dummy variables from this catagorical variable as follows."
   ]
  },
  {
   "cell_type": "code",
   "execution_count": 27,
   "id": "b9c14cd6-0247-48b6-8b04-e9c607995630",
   "metadata": {},
   "outputs": [
    {
     "data": {
      "image/png": "[encoded data removed]",
      "text/plain": [
       "<Figure size 640x480 with 1 Axes>"
      ]
     },
     "metadata": {},
     "output_type": "display_data"
    }
   ],
   "source": [
    "df_housing.LotShape = df_housing.LotShape.map({'Reg':'LotShape_Reg', \n",
    "                                         'IR1':'LotShape_iR1',\n",
    "                                         'IR2':'LotShape_ir2',\n",
    "                                         'IR3':'LotShape_irregular'\n",
    "                                          })\n",
    "pt_MSZoning = pd.pivot_table(df_housing, values='SalePrice', index='LotShape', columns='YrSold', aggfunc='mean')\n",
    "pt_MSZoning.plot(kind='bar', rot=45,  ylabel='SalePrice', title=\"Sales Vs LotShape\")\n",
    "plt.show()"
   ]
  },
  {
   "cell_type": "markdown",
   "id": "03bd81d7-7d95-4d2e-bee8-1e1507bf6697",
   "metadata": {},
   "source": [
    "#### OverallQual:\n",
    "Rates the overall material and finish of the house\n",
    "\n",
    "       10\tVery Excellent\n",
    "       9\tExcellent\n",
    "       8\tVery Good\n",
    "       7\tGood\n",
    "       6\tAbove Average\n",
    "       5\tAverage\n",
    "       4\tBelow Average\n",
    "       3\tFair\n",
    "       2\tPoor\n",
    "       1\tVery Poor"
   ]
  },
  {
   "cell_type": "markdown",
   "id": "1fe7e1e6-7819-4f58-a4db-7c978ca67437",
   "metadata": {},
   "source": [
    "#### OverallCond:\n",
    "Rates the overall condition of the house\n",
    "\n",
    "       10\tVery Excellent\n",
    "       9\tExcellent\n",
    "       8\tVery Good\n",
    "       7\tGood\n",
    "       6\tAbove Average\t\n",
    "       5\tAverage\n",
    "       4\tBelow Average\t\n",
    "       3\tFair\n",
    "       2\tPoor\n",
    "       1\tVery Poor"
   ]
  },
  {
   "cell_type": "markdown",
   "id": "61b74f6d-8c5c-47c0-a28d-d23cdffbbe05",
   "metadata": {},
   "source": [
    "#### YearBuilt: \n",
    "Original construction date"
   ]
  },
  {
   "cell_type": "markdown",
   "id": "85f198d5-3f8c-49c2-b4eb-648a9525653f",
   "metadata": {},
   "source": [
    "#### YearRemodAdd:\n",
    "Remodel date (same as construction date if no remodeling or additions)"
   ]
  },
  {
   "cell_type": "markdown",
   "id": "1cae6953-f456-409e-9f14-8701d481a479",
   "metadata": {},
   "source": [
    "#### ExterQual: \n",
    "Evaluates the quality of the material on the exterior \n",
    "\t\t\n",
    "       Ex\tExcellent\n",
    "       Gd\tGood\n",
    "       TA\tAverage/Typical\n",
    "       Fa\tFair\n",
    "       Po\tPoor"
   ]
  },
  {
   "cell_type": "markdown",
   "id": "71c3284f-50f4-4bf2-a64d-f8050d789440",
   "metadata": {},
   "source": [
    "#### ExterCond:\n",
    "Evaluates the present condition of the material on the exterior\n",
    "\t\t\n",
    "       Ex\tExcellent\n",
    "       Gd\tGood\n",
    "       TA\tAverage/Typical\n",
    "       Fa\tFair\n",
    "       Po\tPoor"
   ]
  },
  {
   "cell_type": "markdown",
   "id": "0c308176-4b96-4d48-801e-dcc8e2544187",
   "metadata": {},
   "source": [
    "#### BsmtQual: \n",
    "Evaluates the height of the basement\n",
    "\n",
    "       Ex\tExcellent (100+ inches)\t\n",
    "       Gd\tGood (90-99 inches)\n",
    "       TA\tTypical (80-89 inches)\n",
    "       Fa\tFair (70-79 inches)\n",
    "       Po\tPoor (<70 inches\n",
    "       NA\tNo Basement"
   ]
  },
  {
   "cell_type": "markdown",
   "id": "8da8d7d9-879d-438f-ad40-44c577a2128e",
   "metadata": {},
   "source": [
    "#### BsmtCond:\n",
    "Evaluates the general condition of the basement\n",
    "\n",
    "       Ex\tExcellent\n",
    "       Gd\tGood\n",
    "       TA\tTypical - slight dampness allowed\n",
    "       Fa\tFair - dampness or some cracking or settling\n",
    "       Po\tPoor - Severe cracking, settling, or wetness\n",
    "       NA\tNo Basement"
   ]
  },
  {
   "cell_type": "markdown",
   "id": "95b9e06e-6d8f-4558-9642-be366293e022",
   "metadata": {},
   "source": [
    "#### BsmtExposure:\n",
    "Refers to walkout or garden level walls\n",
    "\n",
    "       Gd\tGood Exposure\n",
    "       Av\tAverage Exposure (split levels or foyers typically score average or above)\t\n",
    "       Mn\tMimimum Exposure\n",
    "       No\tNo Exposure\n",
    "       NA\tNo Basement"
   ]
  },
  {
   "cell_type": "markdown",
   "id": "d355361d-18f9-4a7b-a686-4ffa5da32f4c",
   "metadata": {},
   "source": [
    "#### BsmtFinType1:\n",
    "Rating of basement finished area\n",
    "\n",
    "       GLQ\tGood Living Quarters\n",
    "       ALQ\tAverage Living Quarters\n",
    "       BLQ\tBelow Average Living Quarters\t\n",
    "       Rec\tAverage Rec Room\n",
    "       LwQ\tLow Quality\n",
    "       Unf\tUnfinshed\n",
    "       NA\tNo Basement"
   ]
  },
  {
   "cell_type": "markdown",
   "id": "4ef4ef83-c892-4285-a851-02f93dafc335",
   "metadata": {},
   "source": [
    "#### BsmtFinType2:\n",
    "Rating of basement finished area (if multiple types)\n",
    "\n",
    "       GLQ\tGood Living Quarters\n",
    "       ALQ\tAverage Living Quarters\n",
    "       BLQ\tBelow Average Living Quarters\t\n",
    "       Rec\tAverage Rec Room\n",
    "       LwQ\tLow Quality\n",
    "       Unf\tUnfinshed\n",
    "       NA\tNo Basement"
   ]
  },
  {
   "cell_type": "markdown",
   "id": "44ff11b1-17cd-4149-8e68-859f4dc03c51",
   "metadata": {},
   "source": [
    "#### HeatingQC: \n",
    "Heating quality and condition\n",
    "\n",
    "       Ex\tExcellent\n",
    "       Gd\tGood\n",
    "       TA\tAverage/Typical\n",
    "       Fa\tFair\n",
    "       Po\tPoor"
   ]
  },
  {
   "cell_type": "markdown",
   "id": "34550fe8-8beb-4642-b0d6-47e2d987025b",
   "metadata": {},
   "source": [
    "#### BsmtFullBath: \n",
    "Basement full bathrooms"
   ]
  },
  {
   "cell_type": "markdown",
   "id": "c6ed5729-ffbe-4dc8-8dab-71473e8bed68",
   "metadata": {},
   "source": [
    "#### BsmtHalfBath:\n",
    "Basement half bathrooms"
   ]
  },
  {
   "cell_type": "markdown",
   "id": "5c15da68-2efb-4556-99ab-bb017db496e2",
   "metadata": {},
   "source": [
    "#### FullBath: \n",
    "Full bathrooms above grade"
   ]
  },
  {
   "cell_type": "markdown",
   "id": "048ec80e-85ff-47d6-8737-849a7335a6f3",
   "metadata": {},
   "source": [
    "#### HalfBath:\n",
    "Half baths above grade"
   ]
  },
  {
   "cell_type": "markdown",
   "id": "3218ab33-ab00-4ca5-ba6c-32948f6ef5da",
   "metadata": {},
   "source": [
    "#### Bedroom(BedroomAbvGr):\n",
    "Bedrooms above grade (does NOT include basement bedrooms)"
   ]
  },
  {
   "cell_type": "markdown",
   "id": "ecce3650-75e4-49ba-a849-9af8dbba1311",
   "metadata": {},
   "source": [
    "#### Kitchen: \n",
    "Kitchens above grade"
   ]
  },
  {
   "cell_type": "markdown",
   "id": "efb0fd9d-2350-4dee-995c-0df2e9b997b9",
   "metadata": {},
   "source": [
    "#### KitchenQual:\n",
    "Kitchen quality\n",
    "\n",
    "       Ex\tExcellent\n",
    "       Gd\tGood\n",
    "       TA\tTypical/Average\n",
    "       Fa\tFair\n",
    "       Po\tPoor"
   ]
  },
  {
   "cell_type": "markdown",
   "id": "b6823b43-9e2c-40df-b47a-79f5252ca1a7",
   "metadata": {},
   "source": [
    "#### Functional:\n",
    "Home functionality (Assume typical unless deductions are warranted)\n",
    "\n",
    "       Typ\tTypical Functionality\n",
    "       Min1\tMinor Deductions 1\n",
    "       Min2\tMinor Deductions 2\n",
    "       Mod\tModerate Deductions\n",
    "       Maj1\tMajor Deductions 1\n",
    "       Maj2\tMajor Deductions 2\n",
    "       Sev\tSeverely Damaged\n",
    "       Sal\tSalvage only"
   ]
  },
  {
   "cell_type": "markdown",
   "id": "0593a3eb-9f58-489e-996f-8a496a50e3b0",
   "metadata": {},
   "source": [
    "#### Fireplaces: \n",
    "Number of fireplaces"
   ]
  },
  {
   "cell_type": "markdown",
   "id": "5565f568-257e-48ed-a93e-fd9a29bd33c4",
   "metadata": {},
   "source": [
    "#### FireplaceQu: \n",
    "Fireplace quality\n",
    "\n",
    "       Ex\tExcellent - Exceptional Masonry Fireplace\n",
    "       Gd\tGood - Masonry Fireplace in main level\n",
    "       TA\tAverage - Prefabricated Fireplace in main living area or Masonry Fireplace in basement\n",
    "       Fa\tFair - Prefabricated Fireplace in basement\n",
    "       Po\tPoor - Ben Franklin Stove\n",
    "       NA\tNo Fireplace"
   ]
  },
  {
   "cell_type": "markdown",
   "id": "e00cbb4e-448f-46e1-b9bf-f1a1a3ab5c33",
   "metadata": {},
   "source": [
    "#### GarageYrBlt: \n",
    "Year garage was built"
   ]
  },
  {
   "cell_type": "markdown",
   "id": "9afd394e-c2db-4772-bc85-1b5fd9c96a6a",
   "metadata": {},
   "source": [
    "#### GarageFinish: \n",
    "Interior finish of the garage\n",
    "\n",
    "       Fin\tFinished\n",
    "       RFn\tRough Finished\t\n",
    "       Unf\tUnfinished\n",
    "       NA\tNo Garage"
   ]
  },
  {
   "cell_type": "markdown",
   "id": "de62452d-d014-4f04-9f46-29a16cbc5567",
   "metadata": {},
   "source": [
    "#### GarageCars: \n",
    "Size of garage in car capacity"
   ]
  },
  {
   "cell_type": "markdown",
   "id": "bad5e9aa-0678-4a4c-a897-95801e7b053e",
   "metadata": {},
   "source": [
    "#### GarageQual:\n",
    "Garage quality\n",
    "\n",
    "       Ex\tExcellent\n",
    "       Gd\tGood\n",
    "       TA\tTypical/Average\n",
    "       Fa\tFair\n",
    "       Po\tPoor\n",
    "       NA\tNo Garage"
   ]
  },
  {
   "cell_type": "markdown",
   "id": "7cd55667-fac6-4cd0-a671-9572d7bc1b79",
   "metadata": {},
   "source": [
    "#### GarageCond: \n",
    "Garage condition\n",
    "\n",
    "       Ex\tExcellent\n",
    "       Gd\tGood\n",
    "       TA\tTypical/Average\n",
    "       Fa\tFair\n",
    "       Po\tPoor\n",
    "       NA\tNo Garage"
   ]
  },
  {
   "cell_type": "markdown",
   "id": "5813bd84-bd09-41cb-8086-989418057d14",
   "metadata": {},
   "source": [
    "### PavedDrive: \n",
    "Paved driveway\n",
    "\n",
    "       Y\tPaved \n",
    "       P\tPartial Pavement\n",
    "       N\tDirt/Gravel"
   ]
  },
  {
   "cell_type": "markdown",
   "id": "8de84b1d-e721-4a48-b8ae-a905afdb1237",
   "metadata": {},
   "source": [
    "#### MoSold:\n",
    "Month Sold (MM)\n"
   ]
  },
  {
   "cell_type": "markdown",
   "id": "752d33bf-6876-46ed-89d6-b6b467feac27",
   "metadata": {},
   "source": [
    "#### YrSold: \n",
    "Year Sold (YYYY)"
   ]
  },
  {
   "cell_type": "markdown",
   "id": "da8f9fa8-146d-4320-b1d5-3505ecf14c1f",
   "metadata": {},
   "source": [
    "### Univariate analysis on catagorical variables:"
   ]
  },
  {
   "cell_type": "markdown",
   "id": "9099b20b-51b4-4ebf-a2a1-47dd5ade1a5f",
   "metadata": {},
   "source": [
    "#### MSSubClass: \n",
    "Identifies the type of dwelling involved in the sale.\t\r\n",
    "\r\n",
    "        20\t1-STORY 1946 & NEWER ALL STYLES\r\n",
    "        30\t1-STORY 1945 & OLDER\r\n",
    "        40\t1-STORY W/FINISHED ATTIC ALL AGES\r\n",
    "        45\t1-1/2 STORY - UNFINISHED ALL AGES\r\n",
    "        50\t1-1/2 STORY FINISHED ALL AGES\r\n",
    "        60\t2-STORY 1946 & NEWER\r\n",
    "        70\t2-STORY 1945 & OLDER\r\n",
    "        75\t2-1/2 STORY ALL AGES\r\n",
    "        80\tSPLIT OR MULTI-LEVEL\r\n",
    "        85\tSPLIT FOYER\r\n",
    "        90\tDUPLEX - ALL STYLES AND AGES\r\n",
    "       120\t1-STORY PUD (Planned Unit Development) - 1946 & NEWER\r\n",
    "       150\t1-1/2 STORY PUD - ALL AGES\r\n",
    "       160\t2-STORY PUD - 1946 & NEWER\r\n",
    "       180\tPUD - MULTILEVEL - INCL SPLIT LEV/FOYER\r\n",
    "       190\t2 FAMILY CONVERSION - ALL STYLES AND AGES\n",
    "And there is no null value present in this column"
   ]
  },
  {
   "cell_type": "code",
   "execution_count": null,
   "id": "824d633a-c3e8-4d2a-95a8-8681c84a24dc",
   "metadata": {},
   "outputs": [],
   "source": []
  },
  {
   "cell_type": "code",
   "execution_count": null,
   "id": "71b93286-45a3-411f-b5c2-a7fe6609c60f",
   "metadata": {},
   "outputs": [],
   "source": []
  },
  {
   "cell_type": "markdown",
   "id": "14ecdf53-1686-4684-bc3b-8dd2d3811a25",
   "metadata": {},
   "source": [
    "#### MSZoning: \n",
    "Identifies the general zoning classification of the sale.<br>\n",
    "- A &emsp; Agriculture<br>\n",
    "- C&emsp;Commercial<br>\n",
    "- FV&emsp;Floating Village Residential<br>\n",
    "- I&emsp;Industrial<br>\n",
    "- RH&emsp;Residential High Density<br>\n",
    "- RL&emsp;Residential Low Density<br>\n",
    "- RP&emsp;Residential Low Density Park<br> \n",
    "- RM&emsp;Residential Medium Density<br>\n",
    "\n",
    "There are no null values present in this column"
   ]
  },
  {
   "cell_type": "code",
   "execution_count": 28,
   "id": "7b4c23f7-c9e9-4012-897f-5448be79397a",
   "metadata": {},
   "outputs": [
    {
     "data": {
      "image/png": "[encoded data removed]",
      "text/plain": [
       "<Figure size 640x480 with 1 Axes>"
      ]
     },
     "metadata": {},
     "output_type": "display_data"
    }
   ],
   "source": [
    "df_housing.MSZoning = df_housing.MSZoning.map({'A':'Agriculture', \n",
    "                                           'C':'Commercial', \n",
    "                                           'FV':'Floating_vlg_Res',\n",
    "                                           'I':'Industrial',\n",
    "                                           'RH': 'Residential_hd',\n",
    "                                           'RL': 'Residential_ld',\n",
    "                                           'RP': 'Residential_ld_park',\n",
    "                                           'RM': 'Residential_md'\n",
    "                                          })\n",
    "pt_MSZoning = pd.pivot_table(df_housing, values='SalePrice', index='MSZoning', columns='YrSold', aggfunc='mean')\n",
    "pt_MSZoning.plot(kind='bar', rot=45,  ylabel='SalePrice', title=\"Sales Vs MSZoning\")\n",
    "plt.show()"
   ]
  },
  {
   "cell_type": "markdown",
   "id": "b291087c-134f-4326-b846-7f8e9a982e40",
   "metadata": {},
   "source": [
    "As per observation from plot Floating Village Residential houses sold for higher prices compared with other catagories.\n",
    "Also there are only 4 catagories in 'MSZoning' column\n",
    "This column contains independent catagorical values so we can make dummy variables from this column as follows."
   ]
  },
  {
   "cell_type": "code",
   "execution_count": 29,
   "id": "827f5ce4-0861-4d7a-ae71-223cda1f7f29",
   "metadata": {},
   "outputs": [
    {
     "data": {
      "text/html": [
       "<div>\n",
       "<style scoped>\n",
       "    .dataframe tbody tr th:only-of-type {\n",
       "        vertical-align: middle;\n",
       "    }\n",
       "\n",
       "    .dataframe tbody tr th {\n",
       "        vertical-align: top;\n",
       "    }\n",
       "\n",
       "    .dataframe thead th {\n",
       "        text-align: right;\n",
       "    }\n",
       "</style>\n",
       "<table border=\"1\" class=\"dataframe\">\n",
       "  <thead>\n",
       "    <tr style=\"text-align: right;\">\n",
       "      <th></th>\n",
       "      <th>MSSubClass</th>\n",
       "      <th>LotFrontage</th>\n",
       "      <th>LotArea</th>\n",
       "      <th>Street</th>\n",
       "      <th>Alley</th>\n",
       "      <th>LotShape</th>\n",
       "      <th>LandContour</th>\n",
       "      <th>Utilities</th>\n",
       "      <th>LotConfig</th>\n",
       "      <th>LandSlope</th>\n",
       "      <th>...</th>\n",
       "      <th>MiscFeature</th>\n",
       "      <th>MiscVal</th>\n",
       "      <th>MoSold</th>\n",
       "      <th>YrSold</th>\n",
       "      <th>SaleType</th>\n",
       "      <th>SaleCondition</th>\n",
       "      <th>SalePrice</th>\n",
       "      <th>Residential_hd</th>\n",
       "      <th>Residential_ld</th>\n",
       "      <th>Residential_md</th>\n",
       "    </tr>\n",
       "  </thead>\n",
       "  <tbody>\n",
       "    <tr>\n",
       "      <th>0</th>\n",
       "      <td>60</td>\n",
       "      <td>65.0</td>\n",
       "      <td>8450</td>\n",
       "      <td>Pave</td>\n",
       "      <td>0</td>\n",
       "      <td>LotShape_Reg</td>\n",
       "      <td>Lvl</td>\n",
       "      <td>AllPub</td>\n",
       "      <td>Inside</td>\n",
       "      <td>Gtl</td>\n",
       "      <td>...</td>\n",
       "      <td>NaN</td>\n",
       "      <td>0</td>\n",
       "      <td>2</td>\n",
       "      <td>2008</td>\n",
       "      <td>WD</td>\n",
       "      <td>Normal</td>\n",
       "      <td>208500</td>\n",
       "      <td>0</td>\n",
       "      <td>1</td>\n",
       "      <td>0</td>\n",
       "    </tr>\n",
       "    <tr>\n",
       "      <th>1</th>\n",
       "      <td>20</td>\n",
       "      <td>80.0</td>\n",
       "      <td>9600</td>\n",
       "      <td>Pave</td>\n",
       "      <td>0</td>\n",
       "      <td>LotShape_Reg</td>\n",
       "      <td>Lvl</td>\n",
       "      <td>AllPub</td>\n",
       "      <td>FR2</td>\n",
       "      <td>Gtl</td>\n",
       "      <td>...</td>\n",
       "      <td>NaN</td>\n",
       "      <td>0</td>\n",
       "      <td>5</td>\n",
       "      <td>2007</td>\n",
       "      <td>WD</td>\n",
       "      <td>Normal</td>\n",
       "      <td>181500</td>\n",
       "      <td>0</td>\n",
       "      <td>1</td>\n",
       "      <td>0</td>\n",
       "    </tr>\n",
       "    <tr>\n",
       "      <th>2</th>\n",
       "      <td>60</td>\n",
       "      <td>68.0</td>\n",
       "      <td>11250</td>\n",
       "      <td>Pave</td>\n",
       "      <td>0</td>\n",
       "      <td>LotShape_iR1</td>\n",
       "      <td>Lvl</td>\n",
       "      <td>AllPub</td>\n",
       "      <td>Inside</td>\n",
       "      <td>Gtl</td>\n",
       "      <td>...</td>\n",
       "      <td>NaN</td>\n",
       "      <td>0</td>\n",
       "      <td>9</td>\n",
       "      <td>2008</td>\n",
       "      <td>WD</td>\n",
       "      <td>Normal</td>\n",
       "      <td>223500</td>\n",
       "      <td>0</td>\n",
       "      <td>1</td>\n",
       "      <td>0</td>\n",
       "    </tr>\n",
       "    <tr>\n",
       "      <th>3</th>\n",
       "      <td>70</td>\n",
       "      <td>60.0</td>\n",
       "      <td>9550</td>\n",
       "      <td>Pave</td>\n",
       "      <td>0</td>\n",
       "      <td>LotShape_iR1</td>\n",
       "      <td>Lvl</td>\n",
       "      <td>AllPub</td>\n",
       "      <td>Corner</td>\n",
       "      <td>Gtl</td>\n",
       "      <td>...</td>\n",
       "      <td>NaN</td>\n",
       "      <td>0</td>\n",
       "      <td>2</td>\n",
       "      <td>2006</td>\n",
       "      <td>WD</td>\n",
       "      <td>Abnorml</td>\n",
       "      <td>140000</td>\n",
       "      <td>0</td>\n",
       "      <td>1</td>\n",
       "      <td>0</td>\n",
       "    </tr>\n",
       "    <tr>\n",
       "      <th>4</th>\n",
       "      <td>60</td>\n",
       "      <td>84.0</td>\n",
       "      <td>14260</td>\n",
       "      <td>Pave</td>\n",
       "      <td>0</td>\n",
       "      <td>LotShape_iR1</td>\n",
       "      <td>Lvl</td>\n",
       "      <td>AllPub</td>\n",
       "      <td>FR2</td>\n",
       "      <td>Gtl</td>\n",
       "      <td>...</td>\n",
       "      <td>NaN</td>\n",
       "      <td>0</td>\n",
       "      <td>12</td>\n",
       "      <td>2008</td>\n",
       "      <td>WD</td>\n",
       "      <td>Normal</td>\n",
       "      <td>250000</td>\n",
       "      <td>0</td>\n",
       "      <td>1</td>\n",
       "      <td>0</td>\n",
       "    </tr>\n",
       "  </tbody>\n",
       "</table>\n",
       "<p>5 rows × 81 columns</p>\n",
       "</div>"
      ],
      "text/plain": [
       "   MSSubClass  LotFrontage  LotArea Street  Alley      LotShape LandContour  \\\n",
       "0          60         65.0     8450   Pave      0  LotShape_Reg         Lvl   \n",
       "1          20         80.0     9600   Pave      0  LotShape_Reg         Lvl   \n",
       "2          60         68.0    11250   Pave      0  LotShape_iR1         Lvl   \n",
       "3          70         60.0     9550   Pave      0  LotShape_iR1         Lvl   \n",
       "4          60         84.0    14260   Pave      0  LotShape_iR1         Lvl   \n",
       "\n",
       "  Utilities LotConfig LandSlope  ... MiscFeature MiscVal MoSold YrSold  \\\n",
       "0    AllPub    Inside       Gtl  ...         NaN       0      2   2008   \n",
       "1    AllPub       FR2       Gtl  ...         NaN       0      5   2007   \n",
       "2    AllPub    Inside       Gtl  ...         NaN       0      9   2008   \n",
       "3    AllPub    Corner       Gtl  ...         NaN       0      2   2006   \n",
       "4    AllPub       FR2       Gtl  ...         NaN       0     12   2008   \n",
       "\n",
       "  SaleType  SaleCondition  SalePrice  Residential_hd  Residential_ld  \\\n",
       "0       WD         Normal     208500               0               1   \n",
       "1       WD         Normal     181500               0               1   \n",
       "2       WD         Normal     223500               0               1   \n",
       "3       WD        Abnorml     140000               0               1   \n",
       "4       WD         Normal     250000               0               1   \n",
       "\n",
       "  Residential_md  \n",
       "0              0  \n",
       "1              0  \n",
       "2              0  \n",
       "3              0  \n",
       "4              0  \n",
       "\n",
       "[5 rows x 81 columns]"
      ]
     },
     "execution_count": 29,
     "metadata": {},
     "output_type": "execute_result"
    }
   ],
   "source": [
    "df_housing = make_dummys(df_housing, 'MSZoning')\n",
    "df_housing.head()"
   ]
  },
  {
   "cell_type": "markdown",
   "id": "69d59e05-a10c-4250-a145-ed9afd7c4120",
   "metadata": {},
   "source": [
    "#### Street:\n",
    "Type of road access to property<br>\n",
    "- Grvl &emsp; Gravel <br>\n",
    "-  Pav &emsp; \tPaved"
   ]
  },
  {
   "cell_type": "code",
   "execution_count": 30,
   "id": "3c42f393-0602-4753-86ea-890489c4de03",
   "metadata": {},
   "outputs": [
    {
     "data": {
      "image/png": "[encoded data removed]",
      "text/plain": [
       "<Figure size 640x480 with 1 Axes>"
      ]
     },
     "metadata": {},
     "output_type": "display_data"
    }
   ],
   "source": [
    "df_housing.Street = df_housing.Street.map({'Grvl':'Street_Gravel', \n",
    "                                           'Pave':'Street_Paved', \n",
    "                                          })\n",
    "pt_MSZoning = pd.pivot_table(df_housing, values='SalePrice', index='Street', columns='YrSold', aggfunc='mean')\n",
    "pt_MSZoning.plot(kind='bar', rot=45,  ylabel='SalePrice', title=\"Sales Vs Street\")\n",
    "plt.show()"
   ]
  },
  {
   "cell_type": "markdown",
   "id": "46a9da0d-c221-416c-b1e2-d1d83b048850",
   "metadata": {},
   "source": [
    "As per observaion from plot Street, more number of sales happend on Paved properties with high price compared with gravel lands.\n",
    "We will make dummy variables from this columns as follows."
   ]
  },
  {
   "cell_type": "code",
   "execution_count": 31,
   "id": "a2d0f50f-80df-4963-bd81-2047aa33fc89",
   "metadata": {},
   "outputs": [
    {
     "data": {
      "text/html": [
       "<div>\n",
       "<style scoped>\n",
       "    .dataframe tbody tr th:only-of-type {\n",
       "        vertical-align: middle;\n",
       "    }\n",
       "\n",
       "    .dataframe tbody tr th {\n",
       "        vertical-align: top;\n",
       "    }\n",
       "\n",
       "    .dataframe thead th {\n",
       "        text-align: right;\n",
       "    }\n",
       "</style>\n",
       "<table border=\"1\" class=\"dataframe\">\n",
       "  <thead>\n",
       "    <tr style=\"text-align: right;\">\n",
       "      <th></th>\n",
       "      <th>MSSubClass</th>\n",
       "      <th>LotFrontage</th>\n",
       "      <th>LotArea</th>\n",
       "      <th>Alley</th>\n",
       "      <th>LotShape</th>\n",
       "      <th>LandContour</th>\n",
       "      <th>Utilities</th>\n",
       "      <th>LotConfig</th>\n",
       "      <th>LandSlope</th>\n",
       "      <th>Neighborhood</th>\n",
       "      <th>...</th>\n",
       "      <th>MiscVal</th>\n",
       "      <th>MoSold</th>\n",
       "      <th>YrSold</th>\n",
       "      <th>SaleType</th>\n",
       "      <th>SaleCondition</th>\n",
       "      <th>SalePrice</th>\n",
       "      <th>Residential_hd</th>\n",
       "      <th>Residential_ld</th>\n",
       "      <th>Residential_md</th>\n",
       "      <th>Street_Paved</th>\n",
       "    </tr>\n",
       "  </thead>\n",
       "  <tbody>\n",
       "    <tr>\n",
       "      <th>0</th>\n",
       "      <td>60</td>\n",
       "      <td>65.0</td>\n",
       "      <td>8450</td>\n",
       "      <td>0</td>\n",
       "      <td>LotShape_Reg</td>\n",
       "      <td>Lvl</td>\n",
       "      <td>AllPub</td>\n",
       "      <td>Inside</td>\n",
       "      <td>Gtl</td>\n",
       "      <td>CollgCr</td>\n",
       "      <td>...</td>\n",
       "      <td>0</td>\n",
       "      <td>2</td>\n",
       "      <td>2008</td>\n",
       "      <td>WD</td>\n",
       "      <td>Normal</td>\n",
       "      <td>208500</td>\n",
       "      <td>0</td>\n",
       "      <td>1</td>\n",
       "      <td>0</td>\n",
       "      <td>1</td>\n",
       "    </tr>\n",
       "    <tr>\n",
       "      <th>1</th>\n",
       "      <td>20</td>\n",
       "      <td>80.0</td>\n",
       "      <td>9600</td>\n",
       "      <td>0</td>\n",
       "      <td>LotShape_Reg</td>\n",
       "      <td>Lvl</td>\n",
       "      <td>AllPub</td>\n",
       "      <td>FR2</td>\n",
       "      <td>Gtl</td>\n",
       "      <td>Veenker</td>\n",
       "      <td>...</td>\n",
       "      <td>0</td>\n",
       "      <td>5</td>\n",
       "      <td>2007</td>\n",
       "      <td>WD</td>\n",
       "      <td>Normal</td>\n",
       "      <td>181500</td>\n",
       "      <td>0</td>\n",
       "      <td>1</td>\n",
       "      <td>0</td>\n",
       "      <td>1</td>\n",
       "    </tr>\n",
       "    <tr>\n",
       "      <th>2</th>\n",
       "      <td>60</td>\n",
       "      <td>68.0</td>\n",
       "      <td>11250</td>\n",
       "      <td>0</td>\n",
       "      <td>LotShape_iR1</td>\n",
       "      <td>Lvl</td>\n",
       "      <td>AllPub</td>\n",
       "      <td>Inside</td>\n",
       "      <td>Gtl</td>\n",
       "      <td>CollgCr</td>\n",
       "      <td>...</td>\n",
       "      <td>0</td>\n",
       "      <td>9</td>\n",
       "      <td>2008</td>\n",
       "      <td>WD</td>\n",
       "      <td>Normal</td>\n",
       "      <td>223500</td>\n",
       "      <td>0</td>\n",
       "      <td>1</td>\n",
       "      <td>0</td>\n",
       "      <td>1</td>\n",
       "    </tr>\n",
       "    <tr>\n",
       "      <th>3</th>\n",
       "      <td>70</td>\n",
       "      <td>60.0</td>\n",
       "      <td>9550</td>\n",
       "      <td>0</td>\n",
       "      <td>LotShape_iR1</td>\n",
       "      <td>Lvl</td>\n",
       "      <td>AllPub</td>\n",
       "      <td>Corner</td>\n",
       "      <td>Gtl</td>\n",
       "      <td>Crawfor</td>\n",
       "      <td>...</td>\n",
       "      <td>0</td>\n",
       "      <td>2</td>\n",
       "      <td>2006</td>\n",
       "      <td>WD</td>\n",
       "      <td>Abnorml</td>\n",
       "      <td>140000</td>\n",
       "      <td>0</td>\n",
       "      <td>1</td>\n",
       "      <td>0</td>\n",
       "      <td>1</td>\n",
       "    </tr>\n",
       "    <tr>\n",
       "      <th>4</th>\n",
       "      <td>60</td>\n",
       "      <td>84.0</td>\n",
       "      <td>14260</td>\n",
       "      <td>0</td>\n",
       "      <td>LotShape_iR1</td>\n",
       "      <td>Lvl</td>\n",
       "      <td>AllPub</td>\n",
       "      <td>FR2</td>\n",
       "      <td>Gtl</td>\n",
       "      <td>NoRidge</td>\n",
       "      <td>...</td>\n",
       "      <td>0</td>\n",
       "      <td>12</td>\n",
       "      <td>2008</td>\n",
       "      <td>WD</td>\n",
       "      <td>Normal</td>\n",
       "      <td>250000</td>\n",
       "      <td>0</td>\n",
       "      <td>1</td>\n",
       "      <td>0</td>\n",
       "      <td>1</td>\n",
       "    </tr>\n",
       "  </tbody>\n",
       "</table>\n",
       "<p>5 rows × 81 columns</p>\n",
       "</div>"
      ],
      "text/plain": [
       "   MSSubClass  LotFrontage  LotArea  Alley      LotShape LandContour  \\\n",
       "0          60         65.0     8450      0  LotShape_Reg         Lvl   \n",
       "1          20         80.0     9600      0  LotShape_Reg         Lvl   \n",
       "2          60         68.0    11250      0  LotShape_iR1         Lvl   \n",
       "3          70         60.0     9550      0  LotShape_iR1         Lvl   \n",
       "4          60         84.0    14260      0  LotShape_iR1         Lvl   \n",
       "\n",
       "  Utilities LotConfig LandSlope Neighborhood  ... MiscVal MoSold YrSold  \\\n",
       "0    AllPub    Inside       Gtl      CollgCr  ...       0      2   2008   \n",
       "1    AllPub       FR2       Gtl      Veenker  ...       0      5   2007   \n",
       "2    AllPub    Inside       Gtl      CollgCr  ...       0      9   2008   \n",
       "3    AllPub    Corner       Gtl      Crawfor  ...       0      2   2006   \n",
       "4    AllPub       FR2       Gtl      NoRidge  ...       0     12   2008   \n",
       "\n",
       "  SaleType  SaleCondition  SalePrice  Residential_hd  Residential_ld  \\\n",
       "0       WD         Normal     208500               0               1   \n",
       "1       WD         Normal     181500               0               1   \n",
       "2       WD         Normal     223500               0               1   \n",
       "3       WD        Abnorml     140000               0               1   \n",
       "4       WD         Normal     250000               0               1   \n",
       "\n",
       "  Residential_md Street_Paved  \n",
       "0              0            1  \n",
       "1              0            1  \n",
       "2              0            1  \n",
       "3              0            1  \n",
       "4              0            1  \n",
       "\n",
       "[5 rows x 81 columns]"
      ]
     },
     "execution_count": 31,
     "metadata": {},
     "output_type": "execute_result"
    }
   ],
   "source": [
    "df_housing = make_dummys(df_housing, 'Street')\n",
    "df_housing.head()"
   ]
  },
  {
   "cell_type": "code",
   "execution_count": 32,
   "id": "64b81ef6-c61a-4f07-a363-68e3e06fd62c",
   "metadata": {},
   "outputs": [
    {
     "data": {
      "text/html": [
       "<div>\n",
       "<style scoped>\n",
       "    .dataframe tbody tr th:only-of-type {\n",
       "        vertical-align: middle;\n",
       "    }\n",
       "\n",
       "    .dataframe tbody tr th {\n",
       "        vertical-align: top;\n",
       "    }\n",
       "\n",
       "    .dataframe thead th {\n",
       "        text-align: right;\n",
       "    }\n",
       "</style>\n",
       "<table border=\"1\" class=\"dataframe\">\n",
       "  <thead>\n",
       "    <tr style=\"text-align: right;\">\n",
       "      <th></th>\n",
       "      <th>MSSubClass</th>\n",
       "      <th>LotFrontage</th>\n",
       "      <th>LotArea</th>\n",
       "      <th>Alley</th>\n",
       "      <th>LandContour</th>\n",
       "      <th>Utilities</th>\n",
       "      <th>LotConfig</th>\n",
       "      <th>LandSlope</th>\n",
       "      <th>Neighborhood</th>\n",
       "      <th>Condition1</th>\n",
       "      <th>...</th>\n",
       "      <th>SaleType</th>\n",
       "      <th>SaleCondition</th>\n",
       "      <th>SalePrice</th>\n",
       "      <th>Residential_hd</th>\n",
       "      <th>Residential_ld</th>\n",
       "      <th>Residential_md</th>\n",
       "      <th>Street_Paved</th>\n",
       "      <th>LotShape_iR1</th>\n",
       "      <th>LotShape_ir2</th>\n",
       "      <th>LotShape_irregular</th>\n",
       "    </tr>\n",
       "  </thead>\n",
       "  <tbody>\n",
       "    <tr>\n",
       "      <th>0</th>\n",
       "      <td>60</td>\n",
       "      <td>65.0</td>\n",
       "      <td>8450</td>\n",
       "      <td>0</td>\n",
       "      <td>Lvl</td>\n",
       "      <td>AllPub</td>\n",
       "      <td>Inside</td>\n",
       "      <td>Gtl</td>\n",
       "      <td>CollgCr</td>\n",
       "      <td>Norm</td>\n",
       "      <td>...</td>\n",
       "      <td>WD</td>\n",
       "      <td>Normal</td>\n",
       "      <td>208500</td>\n",
       "      <td>0</td>\n",
       "      <td>1</td>\n",
       "      <td>0</td>\n",
       "      <td>1</td>\n",
       "      <td>0</td>\n",
       "      <td>0</td>\n",
       "      <td>0</td>\n",
       "    </tr>\n",
       "    <tr>\n",
       "      <th>1</th>\n",
       "      <td>20</td>\n",
       "      <td>80.0</td>\n",
       "      <td>9600</td>\n",
       "      <td>0</td>\n",
       "      <td>Lvl</td>\n",
       "      <td>AllPub</td>\n",
       "      <td>FR2</td>\n",
       "      <td>Gtl</td>\n",
       "      <td>Veenker</td>\n",
       "      <td>Feedr</td>\n",
       "      <td>...</td>\n",
       "      <td>WD</td>\n",
       "      <td>Normal</td>\n",
       "      <td>181500</td>\n",
       "      <td>0</td>\n",
       "      <td>1</td>\n",
       "      <td>0</td>\n",
       "      <td>1</td>\n",
       "      <td>0</td>\n",
       "      <td>0</td>\n",
       "      <td>0</td>\n",
       "    </tr>\n",
       "    <tr>\n",
       "      <th>2</th>\n",
       "      <td>60</td>\n",
       "      <td>68.0</td>\n",
       "      <td>11250</td>\n",
       "      <td>0</td>\n",
       "      <td>Lvl</td>\n",
       "      <td>AllPub</td>\n",
       "      <td>Inside</td>\n",
       "      <td>Gtl</td>\n",
       "      <td>CollgCr</td>\n",
       "      <td>Norm</td>\n",
       "      <td>...</td>\n",
       "      <td>WD</td>\n",
       "      <td>Normal</td>\n",
       "      <td>223500</td>\n",
       "      <td>0</td>\n",
       "      <td>1</td>\n",
       "      <td>0</td>\n",
       "      <td>1</td>\n",
       "      <td>1</td>\n",
       "      <td>0</td>\n",
       "      <td>0</td>\n",
       "    </tr>\n",
       "    <tr>\n",
       "      <th>3</th>\n",
       "      <td>70</td>\n",
       "      <td>60.0</td>\n",
       "      <td>9550</td>\n",
       "      <td>0</td>\n",
       "      <td>Lvl</td>\n",
       "      <td>AllPub</td>\n",
       "      <td>Corner</td>\n",
       "      <td>Gtl</td>\n",
       "      <td>Crawfor</td>\n",
       "      <td>Norm</td>\n",
       "      <td>...</td>\n",
       "      <td>WD</td>\n",
       "      <td>Abnorml</td>\n",
       "      <td>140000</td>\n",
       "      <td>0</td>\n",
       "      <td>1</td>\n",
       "      <td>0</td>\n",
       "      <td>1</td>\n",
       "      <td>1</td>\n",
       "      <td>0</td>\n",
       "      <td>0</td>\n",
       "    </tr>\n",
       "    <tr>\n",
       "      <th>4</th>\n",
       "      <td>60</td>\n",
       "      <td>84.0</td>\n",
       "      <td>14260</td>\n",
       "      <td>0</td>\n",
       "      <td>Lvl</td>\n",
       "      <td>AllPub</td>\n",
       "      <td>FR2</td>\n",
       "      <td>Gtl</td>\n",
       "      <td>NoRidge</td>\n",
       "      <td>Norm</td>\n",
       "      <td>...</td>\n",
       "      <td>WD</td>\n",
       "      <td>Normal</td>\n",
       "      <td>250000</td>\n",
       "      <td>0</td>\n",
       "      <td>1</td>\n",
       "      <td>0</td>\n",
       "      <td>1</td>\n",
       "      <td>1</td>\n",
       "      <td>0</td>\n",
       "      <td>0</td>\n",
       "    </tr>\n",
       "  </tbody>\n",
       "</table>\n",
       "<p>5 rows × 83 columns</p>\n",
       "</div>"
      ],
      "text/plain": [
       "   MSSubClass  LotFrontage  LotArea  Alley LandContour Utilities LotConfig  \\\n",
       "0          60         65.0     8450      0         Lvl    AllPub    Inside   \n",
       "1          20         80.0     9600      0         Lvl    AllPub       FR2   \n",
       "2          60         68.0    11250      0         Lvl    AllPub    Inside   \n",
       "3          70         60.0     9550      0         Lvl    AllPub    Corner   \n",
       "4          60         84.0    14260      0         Lvl    AllPub       FR2   \n",
       "\n",
       "  LandSlope Neighborhood Condition1  ... SaleType SaleCondition SalePrice  \\\n",
       "0       Gtl      CollgCr       Norm  ...       WD        Normal    208500   \n",
       "1       Gtl      Veenker      Feedr  ...       WD        Normal    181500   \n",
       "2       Gtl      CollgCr       Norm  ...       WD        Normal    223500   \n",
       "3       Gtl      Crawfor       Norm  ...       WD       Abnorml    140000   \n",
       "4       Gtl      NoRidge       Norm  ...       WD        Normal    250000   \n",
       "\n",
       "   Residential_hd  Residential_ld  Residential_md  Street_Paved LotShape_iR1  \\\n",
       "0               0               1               0             1            0   \n",
       "1               0               1               0             1            0   \n",
       "2               0               1               0             1            1   \n",
       "3               0               1               0             1            1   \n",
       "4               0               1               0             1            1   \n",
       "\n",
       "  LotShape_ir2 LotShape_irregular  \n",
       "0            0                  0  \n",
       "1            0                  0  \n",
       "2            0                  0  \n",
       "3            0                  0  \n",
       "4            0                  0  \n",
       "\n",
       "[5 rows x 83 columns]"
      ]
     },
     "execution_count": 32,
     "metadata": {},
     "output_type": "execute_result"
    }
   ],
   "source": [
    "df_housing = make_dummys(df_housing, 'LotShape')\n",
    "df_housing.head()"
   ]
  },
  {
   "cell_type": "markdown",
   "id": "56cd69f3-db4b-4104-910a-5066a244bd32",
   "metadata": {},
   "source": [
    "#### LandContour:\n",
    "Flatness of the property\n",
    "\n",
    "       Lvl\tNear Flat/Level\t\n",
    "       Bnk\tBanked - Quick and significant rise from street grade to building\n",
    "       HLS\tHillside - Significant slope from side to side\n",
    "       Low\tDepression"
   ]
  },
  {
   "cell_type": "markdown",
   "id": "86937179-23bc-4197-b0b6-b7e4c313ca0c",
   "metadata": {},
   "source": [
    "#### Utilities: \n",
    "Type of utilities available\n",
    "\t\t\n",
    "       AllPub\tAll public Utilities (E,G,W,& S)\t\n",
    "       NoSewr\tElectricity, Gas, and Water (Septic Tank)\n",
    "       NoSeWa\tElectricity and Gas Only\n",
    "       ELO\tElectricity only\t"
   ]
  },
  {
   "cell_type": "markdown",
   "id": "f7d67202-513b-4541-996f-b208f2fc2228",
   "metadata": {},
   "source": [
    "#### LotConfig: \n",
    "Lot configuration\n",
    "\n",
    "       Inside\tInside lot\n",
    "       Corner\tCorner lot\n",
    "       CulDSac\tCul-de-sac\n",
    "       FR2\tFrontage on 2 sides of property\n",
    "       FR3\tFrontage on 3 sides of property"
   ]
  },
  {
   "cell_type": "markdown",
   "id": "68f9e3df-0d69-42a9-8c45-6b456de7d27d",
   "metadata": {},
   "source": [
    "#### LandSlope: \n",
    "Slope of property\n",
    "\t\t\n",
    "       Gtl\tGentle slope\n",
    "       Mod\tModerate Slope\t\n",
    "       Sev\tSevere Slope"
   ]
  },
  {
   "cell_type": "markdown",
   "id": "c1e7645c-8348-4828-9b4b-ed6fc92f5a10",
   "metadata": {},
   "source": [
    "#### Neighborhood: \n",
    "Physical locations within Ames city limits\n",
    "\n",
    "       Blmngtn\tBloomington Heights\n",
    "       Blueste\tBluestem\n",
    "       BrDale\tBriardale\n",
    "       BrkSide\tBrookside\n",
    "       ClearCr\tClear Creek\n",
    "       CollgCr\tCollege Creek\n",
    "       Crawfor\tCrawford\n",
    "       Edwards\tEdwards\n",
    "       Gilbert\tGilbert\n",
    "       IDOTRR\tIowa DOT and Rail Road\n",
    "       MeadowV\tMeadow Village\n",
    "       Mitchel\tMitchell\n",
    "       Names\tNorth Ames\n",
    "       NoRidge\tNorthridge\n",
    "       NPkVill\tNorthpark Villa\n",
    "       NridgHt\tNorthridge Heights\n",
    "       NWAmes\tNorthwest Ames\n",
    "       OldTown\tOld Town\n",
    "       SWISU\tSouth & West of Iowa State University\n",
    "       Sawyer\tSawyer\n",
    "       SawyerW\tSawyer West\n",
    "       Somerst\tSomerset\n",
    "       StoneBr\tStone Brook\n",
    "       Timber\tTimberland\n",
    "       Veenker\tVeenker"
   ]
  },
  {
   "cell_type": "markdown",
   "id": "69e0fc9d-9331-45a3-a630-e8108e9de2f1",
   "metadata": {},
   "source": [
    "#### Condition1: \n",
    "Proximity to various conditions\n",
    "\t\n",
    "       Artery\tAdjacent to arterial street\n",
    "       Feedr\tAdjacent to feeder street\t\n",
    "       Norm\tNormal\t\n",
    "       RRNn\tWithin 200' of North-South Railroad\n",
    "       RRAn\tAdjacent to North-South Railroad\n",
    "       PosN\tNear positive off-site feature--park, greenbelt, etc.\n",
    "       PosA\tAdjacent to postive off-site feature\n",
    "       RRNe\tWithin 200' of East-West Railroad\n",
    "       RRAe\tAdjacent to East-West Railroad"
   ]
  },
  {
   "cell_type": "markdown",
   "id": "90ab945f-5d21-4056-9af3-c76b570f9e9d",
   "metadata": {},
   "source": [
    "#### Condition2: \n",
    "Proximity to various conditions (if more than one is present)\n",
    "\t\t\n",
    "       Artery\tAdjacent to arterial street\n",
    "       Feedr\tAdjacent to feeder street\t\n",
    "       Norm\tNormal\t\n",
    "       RRNn\tWithin 200' of North-South Railroad\n",
    "       RRAn\tAdjacent to North-South Railroad\n",
    "       PosN\tNear positive off-site feature--park, greenbelt, etc.\n",
    "       PosA\tAdjacent to postive off-site feature\n",
    "       RRNe\tWithin 200' of East-West Railroad\n",
    "       RRAe\tAdjacent to East-West Railroad\n"
   ]
  },
  {
   "cell_type": "markdown",
   "id": "20187bd9-308b-4640-81a7-2d26b62c8da0",
   "metadata": {},
   "source": [
    "#### BldgType: \n",
    "Type of dwelling\n",
    "\t\t\n",
    "       1Fam\tSingle-family Detached\t\n",
    "       2FmCon\tTwo-family Conversion; originally built as one-family dwelling\n",
    "       Duplx\tDuplex\n",
    "       TwnhsE\tTownhouse End Unit\n",
    "       TwnhsI\tTownhouse Inside Unit"
   ]
  },
  {
   "cell_type": "markdown",
   "id": "f4b34fa9-4e90-4b9a-ab4f-225efd0396be",
   "metadata": {},
   "source": [
    "#### HouseStyle:\n",
    "Style of dwelling\n",
    "\t\n",
    "       1Story\tOne story\n",
    "       1.5Fin\tOne and one-half story: 2nd level finished\n",
    "       1.5Unf\tOne and one-half story: 2nd level unfinished\n",
    "       2Story\tTwo story\n",
    "       2.5Fin\tTwo and one-half story: 2nd level finished\n",
    "       2.5Unf\tTwo and one-half story: 2nd level unfinished\n",
    "       SFoyer\tSplit Foyer\n",
    "       SLvl\tSplit Level"
   ]
  },
  {
   "cell_type": "markdown",
   "id": "f37f8818-9742-4fae-b0d3-590e028ccbb0",
   "metadata": {},
   "source": [
    "#### RoofStyle:\n",
    "Type of roof\n",
    "\n",
    "       Flat\tFlat\n",
    "       Gable\tGable\n",
    "       Gambrel\tGabrel (Barn)\n",
    "       Hip\tHip\n",
    "       Mansard\tMansard\n",
    "       Shed\tShed"
   ]
  },
  {
   "cell_type": "markdown",
   "id": "927353f5-0f6f-4e37-85ac-97071c591dd6",
   "metadata": {},
   "source": [
    "#### RoofMatl:\n",
    "Roof material\n",
    "\n",
    "       ClyTile\tClay or Tile\n",
    "       CompShg\tStandard (Composite) Shingle\n",
    "       Membran\tMembrane\n",
    "       Metal\tMetal\n",
    "       Roll\tRoll\n",
    "       Tar&Grv\tGravel & Tar\n",
    "       WdShake\tWood Shakes\n",
    "       WdShngl\tWood Shingles"
   ]
  },
  {
   "cell_type": "markdown",
   "id": "058a2380-84c4-4ca9-a156-764f03d54b78",
   "metadata": {},
   "source": [
    "#### Exterior1st:\n",
    "Exterior covering on house\n",
    "\n",
    "       AsbShng\tAsbestos Shingles\n",
    "       AsphShn\tAsphalt Shingles\n",
    "       BrkComm\tBrick Common\n",
    "       BrkFace\tBrick Face\n",
    "       CBlock\tCinder Block\n",
    "       CemntBd\tCement Board\n",
    "       HdBoard\tHard Board\n",
    "       ImStucc\tImitation Stucco\n",
    "       MetalSd\tMetal Siding\n",
    "       Other\tOther\n",
    "       Plywood\tPlywood\n",
    "       PreCast\tPreCast\t\n",
    "       Stone\tStone\n",
    "       Stucco\tStucco\n",
    "       VinylSd\tVinyl Siding\n",
    "       Wd Sdng\tWood Siding\n",
    "       WdShing\tWood Shingles"
   ]
  },
  {
   "cell_type": "markdown",
   "id": "78818994-bb63-4cc3-ba40-4f33c60bcbda",
   "metadata": {},
   "source": [
    "#### Exterior2nd: \n",
    "Exterior covering on house (if more than one material)\n",
    "\n",
    "       AsbShng\tAsbestos Shingles\n",
    "       AsphShn\tAsphalt Shingles\n",
    "       BrkComm\tBrick Common\n",
    "       BrkFace\tBrick Face\n",
    "       CBlock\tCinder Block\n",
    "       CemntBd\tCement Board\n",
    "       HdBoard\tHard Board\n",
    "       ImStucc\tImitation Stucco\n",
    "       MetalSd\tMetal Siding\n",
    "       Other\tOther\n",
    "       Plywood\tPlywood\n",
    "       PreCast\tPreCast\n",
    "       Stone\tStone\n",
    "       Stucco\tStucco\n",
    "       VinylSd\tVinyl Siding\n",
    "       Wd Sdng\tWood Siding\n",
    "       WdShing\tWood Shingles"
   ]
  },
  {
   "cell_type": "markdown",
   "id": "278b49c7-4c3b-4d6d-b959-5d1168ca5ebd",
   "metadata": {},
   "source": [
    "#### MasVnrType: \n",
    "Masonry veneer type\n",
    "\n",
    "       BrkCmn\tBrick Common\n",
    "       BrkFace\tBrick Face\n",
    "       CBlock\tCinder Block\n",
    "       None\tNone\n",
    "       Stone\tStone"
   ]
  },
  {
   "cell_type": "markdown",
   "id": "289e4a9c-09b4-4ac0-a8fd-f99337bba7ef",
   "metadata": {},
   "source": [
    "#### Foundation: \n",
    "Type of foundation\n",
    "\t\t\n",
    "       BrkTil\tBrick & Tile\n",
    "       CBlock\tCinder Block\n",
    "       PConc\tPoured Contrete\t\n",
    "       Slab\tSlab\n",
    "       Stone\tStone\n",
    "       Wood\tWood"
   ]
  },
  {
   "cell_type": "markdown",
   "id": "9239de6a-8781-4d62-85b9-2fe7c459113c",
   "metadata": {},
   "source": [
    "#### Heating: \n",
    "Type of heating\n",
    "\t\t\n",
    "       Floor\tFloor Furnace\n",
    "       GasA\tGas forced warm air furnace\n",
    "       GasW\tGas hot water or steam heat\n",
    "       Grav\tGravity furnace\t\n",
    "       OthW\tHot water or steam heat other than gas\n",
    "       Wall\tWall furnace"
   ]
  },
  {
   "cell_type": "markdown",
   "id": "9c082027-ed5d-4b82-aa3e-df6e066c3efb",
   "metadata": {},
   "source": [
    "#### CentralAir: \n",
    "Central air conditioning\n",
    "\n",
    "       N\tNo\n",
    "       Y\tYes"
   ]
  },
  {
   "cell_type": "markdown",
   "id": "486d2a85-d988-4e0a-900f-e2eb9acadb6a",
   "metadata": {},
   "source": [
    "#### Electrical: \n",
    "Electrical system\n",
    "\n",
    "       SBrkr\tStandard Circuit Breakers & Romex\n",
    "       FuseA\tFuse Box over 60 AMP and all Romex wiring (Average)\t\n",
    "       FuseF\t60 AMP Fuse Box and mostly Romex wiring (Fair)\n",
    "       FuseP\t60 AMP Fuse Box and mostly knob & tube wiring (poor)\n",
    "       Mix\tMixed"
   ]
  },
  {
   "cell_type": "markdown",
   "id": "5e6cd812-a3f5-4555-9e9d-8e8263cc2707",
   "metadata": {},
   "source": [
    "#### GarageType: \n",
    "Garage location\n",
    "\t\t\n",
    "       2Types\tMore than one type of garage\n",
    "       Attchd\tAttached to home\n",
    "       Basment\tBasement Garage\n",
    "       BuiltIn\tBuilt-In (Garage part of house - typically has room above garage)\n",
    "       CarPort\tCar Port\n",
    "       Detchd\tDetached from home\n",
    "       NA\tNo Garage"
   ]
  },
  {
   "cell_type": "markdown",
   "id": "cac35df2-4ac4-4a3a-8f1d-2d726f32599e",
   "metadata": {},
   "source": [
    "#### MiscFeature: \n",
    "Miscellaneous feature not covered in other categories\n",
    "\t\t\n",
    "       Elev\tElevator\n",
    "       Gar2\t2nd Garage (if not described in garage section)\n",
    "       Othr\tOther\n",
    "       Shed\tShed (over 100 SF)\n",
    "       TenC\tTennis Court\n",
    "       NA\tNone"
   ]
  },
  {
   "cell_type": "markdown",
   "id": "b914e7fe-58ed-452f-9eb6-11687abb2e65",
   "metadata": {},
   "source": [
    "#### SaleType: \n",
    "Type of sale\n",
    "\t\t\n",
    "       WD \tWarranty Deed - Conventional\n",
    "       CWD\tWarranty Deed - Cash\n",
    "       VWD\tWarranty Deed - VA Loan\n",
    "       New\tHome just constructed and sold\n",
    "       COD\tCourt Officer Deed/Estate\n",
    "       Con\tContract 15% Down payment regular terms\n",
    "       ConLw\tContract Low Down payment and low interest\n",
    "       ConLI\tContract Low Interest\n",
    "       ConLD\tContract Low Down\n",
    "       Oth\tOther"
   ]
  },
  {
   "cell_type": "markdown",
   "id": "70ad344d-d74b-4969-a93c-fadffe071df2",
   "metadata": {},
   "source": [
    "#### SaleCondition: \n",
    "Condition of sale\n",
    "\n",
    "       Normal\tNormal Sale\n",
    "       Abnorml\tAbnormal Sale -  trade, foreclosure, short sale\n",
    "       AdjLand\tAdjoining Land Purchase\n",
    "       Alloca\tAllocation - two linked properties with separate deeds, typically condo with a garage unit\t\n",
    "       Family\tSale between family members\n",
    "       Partial\tHome was not completed when last assessed (associated with New Homes)"
   ]
  },
  {
   "cell_type": "code",
   "execution_count": null,
   "id": "11805bf3-2aaa-4234-91dc-c3907a63609b",
   "metadata": {},
   "outputs": [],
   "source": []
  }
 ],
 "metadata": {
  "kernelspec": {
   "display_name": "Python 3 (ipykernel)",
   "language": "python",
   "name": "python3"
  },
  "language_info": {
   "codemirror_mode": {
    "name": "ipython",
    "version": 3
   },
   "file_extension": ".py",
   "mimetype": "text/x-python",
   "name": "python",
   "nbconvert_exporter": "python",
   "pygments_lexer": "ipython3",
   "version": "3.11.7"
  }
 },
 "nbformat": 4,
 "nbformat_minor": 5
}
